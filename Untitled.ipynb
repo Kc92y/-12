{
 "cells": [
  {
   "cell_type": "code",
   "execution_count": 34,
   "id": "5d9cd2fd-4d8a-42fd-a7fa-a213642d8e1e",
   "metadata": {},
   "outputs": [
    {
     "name": "stdout",
     "output_type": "stream",
     "text": [
      "Requirement already satisfied: pandas in /home/b10173209/venv/lib/python3.8/site-packages (2.0.3)\n",
      "Requirement already satisfied: numpy in /home/b10173209/venv/lib/python3.8/site-packages (1.24.3)\n",
      "Requirement already satisfied: scikit-learn in /home/b10173209/venv/lib/python3.8/site-packages (1.3.2)\n",
      "Requirement already satisfied: xgboost in /home/b10173209/venv/lib/python3.8/site-packages (2.1.3)\n",
      "Requirement already satisfied: jieba in /home/b10173209/venv/lib/python3.8/site-packages (0.42.1)\n",
      "Requirement already satisfied: nltk in /home/b10173209/venv/lib/python3.8/site-packages (3.9.1)\n",
      "Requirement already satisfied: tzdata>=2022.1 in /home/b10173209/venv/lib/python3.8/site-packages (from pandas) (2024.2)\n",
      "Requirement already satisfied: pytz>=2020.1 in /home/b10173209/venv/lib/python3.8/site-packages (from pandas) (2024.2)\n",
      "Requirement already satisfied: python-dateutil>=2.8.2 in /home/b10173209/venv/lib/python3.8/site-packages (from pandas) (2.9.0.post0)\n",
      "Requirement already satisfied: threadpoolctl>=2.0.0 in /home/b10173209/venv/lib/python3.8/site-packages (from scikit-learn) (3.5.0)\n",
      "Requirement already satisfied: scipy>=1.5.0 in /home/b10173209/venv/lib/python3.8/site-packages (from scikit-learn) (1.10.1)\n",
      "Requirement already satisfied: joblib>=1.1.1 in /home/b10173209/venv/lib/python3.8/site-packages (from scikit-learn) (1.4.2)\n",
      "Requirement already satisfied: regex>=2021.8.3 in /home/b10173209/venv/lib/python3.8/site-packages (from nltk) (2024.11.6)\n",
      "Requirement already satisfied: click in /home/b10173209/venv/lib/python3.8/site-packages (from nltk) (8.1.8)\n",
      "Requirement already satisfied: tqdm in /home/b10173209/venv/lib/python3.8/site-packages (from nltk) (4.67.0)\n",
      "Requirement already satisfied: six>=1.5 in /home/b10173209/venv/lib/python3.8/site-packages (from python-dateutil>=2.8.2->pandas) (1.16.0)\n"
     ]
    }
   ],
   "source": [
    "! pip install pandas numpy scikit-learn xgboost jieba nltk"
   ]
  },
  {
   "cell_type": "code",
   "execution_count": 35,
   "id": "25170bc6-8ea6-432d-aac6-e2d3389d8654",
   "metadata": {},
   "outputs": [],
   "source": [
    "import pandas as pd\n",
    "import os\n",
    "from sklearn.feature_extraction.text import TfidfVectorizer\n",
    "from sklearn.model_selection import StratifiedKFold\n",
    "from sklearn.metrics import accuracy_score, precision_score, recall_score, f1_score\n",
    "import xgboost as xgb\n",
    "import plotly.express as px"
   ]
  },
  {
   "cell_type": "code",
   "execution_count": 36,
   "id": "50ca734b-de26-40c0-9646-30ae6fb05b83",
   "metadata": {},
   "outputs": [],
   "source": [
    "train_path = '/home/b10173209/test.file/train.txt'\n",
    "test_path = '/home/b10173209/test.file/test.txt'\n",
    "val_path = '/home/b10173209/test.file/val.txt'\n",
    "\n",
    "train_data = pd.read_csv(train_path, sep=';', names=['text', 'label'])\n",
    "test_data = pd.read_csv(test_path, sep=';', names=['text', 'label'])\n",
    "val_data = pd.read_csv(val_path, sep=';', names=['text', 'label'])\n",
    "\n",
    "# 確保標籤是數值型\n",
    "train_data['label'] = train_data['label'].astype('category').cat.codes\n",
    "test_data['label'] = test_data['label'].astype('category').cat.codes\n",
    "val_data['label'] = val_data['label'].astype('category').cat.codes\n",
    "\n",
    "# 合併訓練和驗證集\n",
    "data = pd.concat([train_data, val_data], ignore_index=True)\n",
    "train_labels = data['label'].tolist()\n",
    "test_labels = test_data['label'].tolist()\n"
   ]
  },
  {
   "cell_type": "code",
   "execution_count": 37,
   "id": "f5cad2fa-6fd0-4bdb-9825-cfec86c28a64",
   "metadata": {},
   "outputs": [],
   "source": [
    "# 使用 StratifiedKFold 進行分層交叉驗證\n",
    "num_folds = 5\n",
    "skf = StratifiedKFold(n_splits=num_folds, shuffle=True, random_state=42)\n",
    "\n",
    "# 定義參數網格\n",
    "param_grid = {'learning_rate': [0.01, 0.05, 0.1],\n",
    "              'max_depth': [3, 5, 7, 9],\n",
    "              'n_estimators': [100, 200, 300]}\n",
    "\n",
    "# 初始化結果 DataFrame\n",
    "results = []"
   ]
  },
  {
   "cell_type": "code",
   "execution_count": 38,
   "id": "ed4b17ac-c272-48c0-b429-02162b973765",
   "metadata": {},
   "outputs": [],
   "source": [
    "# 建立 TfidfVectorizer\n",
    "vectorizer = TfidfVectorizer(max_features=None)\n",
    "X_train_full = vectorizer.fit_transform(data['text'])\n",
    "X_test = vectorizer.transform(test_data['text'])"
   ]
  },
  {
   "cell_type": "code",
   "execution_count": 39,
   "id": "71eaab31-1730-4466-9403-61e72d9eb69e",
   "metadata": {},
   "outputs": [
    {
     "name": "stdout",
     "output_type": "stream",
     "text": [
      "Running: learning_rate=0.01, max_depth=3, n_estimators=100\n",
      "折數: 1/5\n",
      "val_macro_f1: 0.3489806669486186, test_macro_f1: 0.3248108736191081\n",
      "折數: 2/5\n",
      "val_macro_f1: 0.3465390043582579, test_macro_f1: 0.3250304862304496\n",
      "折數: 3/5\n",
      "val_macro_f1: 0.33979954553912367, test_macro_f1: 0.32432478580377394\n",
      "折數: 4/5\n",
      "val_macro_f1: 0.33750350355991393, test_macro_f1: 0.31847713678079637\n",
      "折數: 5/5\n",
      "val_macro_f1: 0.34905728807264963, test_macro_f1: 0.32496975750677437\n",
      "Running: learning_rate=0.01, max_depth=3, n_estimators=200\n",
      "折數: 1/5\n",
      "val_macro_f1: 0.3740720626287424, test_macro_f1: 0.3438304228926163\n",
      "折數: 2/5\n",
      "val_macro_f1: 0.3792447289758592, test_macro_f1: 0.3572450601716091\n",
      "折數: 3/5\n",
      "val_macro_f1: 0.359455189853301, test_macro_f1: 0.34933805495340337\n",
      "折數: 4/5\n",
      "val_macro_f1: 0.3714878046636707, test_macro_f1: 0.3503008485996739\n",
      "折數: 5/5\n",
      "val_macro_f1: 0.36811122893790166, test_macro_f1: 0.3577340290506556\n",
      "Running: learning_rate=0.01, max_depth=3, n_estimators=300\n",
      "折數: 1/5\n",
      "val_macro_f1: 0.4213871842763693, test_macro_f1: 0.3928524669282277\n",
      "折數: 2/5\n",
      "val_macro_f1: 0.41854005879777784, test_macro_f1: 0.4051735614130683\n",
      "折數: 3/5\n",
      "val_macro_f1: 0.44168588731671465, test_macro_f1: 0.4145743305118485\n",
      "折數: 4/5\n",
      "val_macro_f1: 0.45653627215170917, test_macro_f1: 0.4346268134976446\n",
      "折數: 5/5\n",
      "val_macro_f1: 0.41757401146864487, test_macro_f1: 0.39900534951992483\n",
      "Running: learning_rate=0.01, max_depth=5, n_estimators=100\n",
      "折數: 1/5\n",
      "val_macro_f1: 0.5280838819710155, test_macro_f1: 0.48768468680504556\n",
      "折數: 2/5\n",
      "val_macro_f1: 0.5157783858877857, test_macro_f1: 0.5012419152984964\n",
      "折數: 3/5\n",
      "val_macro_f1: 0.5186029634566484, test_macro_f1: 0.5109052903893045\n",
      "折數: 4/5\n",
      "val_macro_f1: 0.5101703415277882, test_macro_f1: 0.46842208880636793\n",
      "折數: 5/5\n",
      "val_macro_f1: 0.5051245329901838, test_macro_f1: 0.48545493251086363\n",
      "Running: learning_rate=0.01, max_depth=5, n_estimators=200\n",
      "折數: 1/5\n",
      "val_macro_f1: 0.5917330173712757, test_macro_f1: 0.5514509745606607\n",
      "折數: 2/5\n",
      "val_macro_f1: 0.5843094826007883, test_macro_f1: 0.5690752480121409\n",
      "折數: 3/5\n",
      "val_macro_f1: 0.590747467171635, test_macro_f1: 0.5744519593903182\n",
      "折數: 4/5\n",
      "val_macro_f1: 0.5729081540038422, test_macro_f1: 0.5429156595388852\n",
      "折數: 5/5\n",
      "val_macro_f1: 0.5781310158378701, test_macro_f1: 0.5537167272541492\n",
      "Running: learning_rate=0.01, max_depth=5, n_estimators=300\n",
      "折數: 1/5\n",
      "val_macro_f1: 0.6626690856497602, test_macro_f1: 0.6247152576520888\n",
      "折數: 2/5\n",
      "val_macro_f1: 0.648240156575421, test_macro_f1: 0.6279996473058608\n",
      "折數: 3/5\n",
      "val_macro_f1: 0.6515631679341909, test_macro_f1: 0.6352539716362444\n",
      "折數: 4/5\n",
      "val_macro_f1: 0.6508166805189088, test_macro_f1: 0.615022933535415\n",
      "折數: 5/5\n",
      "val_macro_f1: 0.6326797708250329, test_macro_f1: 0.6188155453526324\n",
      "Running: learning_rate=0.01, max_depth=7, n_estimators=100\n",
      "折數: 1/5\n",
      "val_macro_f1: 0.6166827512771322, test_macro_f1: 0.5869622873616276\n",
      "折數: 2/5\n",
      "val_macro_f1: 0.619294160406952, test_macro_f1: 0.6058739125336546\n",
      "折數: 3/5\n",
      "val_macro_f1: 0.6293688568384946, test_macro_f1: 0.6083731111498553\n",
      "折數: 4/5\n",
      "val_macro_f1: 0.6431907762679923, test_macro_f1: 0.6079861657468405\n",
      "折數: 5/5\n",
      "val_macro_f1: 0.6061740944528657, test_macro_f1: 0.5818532542794895\n",
      "Running: learning_rate=0.01, max_depth=7, n_estimators=200\n",
      "折數: 1/5\n",
      "val_macro_f1: 0.6922114711147493, test_macro_f1: 0.660109684741956\n",
      "折數: 2/5\n",
      "val_macro_f1: 0.6769619893664421, test_macro_f1: 0.6599448630368362\n",
      "折數: 3/5\n",
      "val_macro_f1: 0.684520001920187, test_macro_f1: 0.6596383880421571\n",
      "折數: 4/5\n",
      "val_macro_f1: 0.692187254069994, test_macro_f1: 0.6548550305663285\n",
      "折數: 5/5\n",
      "val_macro_f1: 0.6664582710415047, test_macro_f1: 0.6425723699361058\n",
      "Running: learning_rate=0.01, max_depth=7, n_estimators=300\n",
      "折數: 1/5\n",
      "val_macro_f1: 0.7273225468322143, test_macro_f1: 0.7069396620207016\n",
      "折數: 2/5\n",
      "val_macro_f1: 0.7248349276447813, test_macro_f1: 0.7174622004345413\n",
      "折數: 3/5\n",
      "val_macro_f1: 0.727206672946635, test_macro_f1: 0.7102461332713034\n",
      "折數: 4/5\n",
      "val_macro_f1: 0.736562244528205, test_macro_f1: 0.7032715366974119\n",
      "折數: 5/5\n",
      "val_macro_f1: 0.7138825158750763, test_macro_f1: 0.6877890671939886\n",
      "Running: learning_rate=0.01, max_depth=9, n_estimators=100\n",
      "折數: 1/5\n",
      "val_macro_f1: 0.6794438706613724, test_macro_f1: 0.6545992169704534\n",
      "折數: 2/5\n",
      "val_macro_f1: 0.6714990358372958, test_macro_f1: 0.6599966817295317\n",
      "折數: 3/5\n",
      "val_macro_f1: 0.6792520585351277, test_macro_f1: 0.6606650273224927\n",
      "折數: 4/5\n",
      "val_macro_f1: 0.6868926094523117, test_macro_f1: 0.6496044546024546\n",
      "折數: 5/5\n",
      "val_macro_f1: 0.6628724745970964, test_macro_f1: 0.6404053550364336\n",
      "Running: learning_rate=0.01, max_depth=9, n_estimators=200\n",
      "折數: 1/5\n",
      "val_macro_f1: 0.7327168346356339, test_macro_f1: 0.7037137126860684\n",
      "折數: 2/5\n",
      "val_macro_f1: 0.7234661994775413, test_macro_f1: 0.7187396408293596\n",
      "折數: 3/5\n",
      "val_macro_f1: 0.7349086479623316, test_macro_f1: 0.7141391878827527\n",
      "折數: 4/5\n",
      "val_macro_f1: 0.7418770324747502, test_macro_f1: 0.708059263859005\n",
      "折數: 5/5\n",
      "val_macro_f1: 0.719634944329853, test_macro_f1: 0.6953112363328472\n",
      "Running: learning_rate=0.01, max_depth=9, n_estimators=300\n",
      "折數: 1/5\n",
      "val_macro_f1: 0.7581773118309666, test_macro_f1: 0.7408259078670923\n",
      "折數: 2/5\n",
      "val_macro_f1: 0.7535906583729414, test_macro_f1: 0.7492845829189024\n",
      "折數: 3/5\n",
      "val_macro_f1: 0.7678672050720569, test_macro_f1: 0.7531866661731815\n",
      "折數: 4/5\n",
      "val_macro_f1: 0.7631088553004028, test_macro_f1: 0.7407885035297324\n",
      "折數: 5/5\n",
      "val_macro_f1: 0.7524797181946331, test_macro_f1: 0.732271480990037\n",
      "Running: learning_rate=0.05, max_depth=3, n_estimators=100\n",
      "折數: 1/5\n",
      "val_macro_f1: 0.6021390849494851, test_macro_f1: 0.5731880553077725\n",
      "折數: 2/5\n",
      "val_macro_f1: 0.5989856811482688, test_macro_f1: 0.5889938137262672\n",
      "折數: 3/5\n",
      "val_macro_f1: 0.5949171039468589, test_macro_f1: 0.5824950742306473\n",
      "折數: 4/5\n",
      "val_macro_f1: 0.5778814925551848, test_macro_f1: 0.5500681027634943\n",
      "折數: 5/5\n",
      "val_macro_f1: 0.5819712710206759, test_macro_f1: 0.5667126653088589\n",
      "Running: learning_rate=0.05, max_depth=3, n_estimators=200\n",
      "折數: 1/5\n",
      "val_macro_f1: 0.7554500371972256, test_macro_f1: 0.7369017546718474\n",
      "折數: 2/5\n",
      "val_macro_f1: 0.760409337850643, test_macro_f1: 0.7534656103329174\n",
      "折數: 3/5\n",
      "val_macro_f1: 0.7568297764396701, test_macro_f1: 0.7335774762900593\n",
      "折數: 4/5\n",
      "val_macro_f1: 0.7599398987068152, test_macro_f1: 0.737992413810122\n",
      "折數: 5/5\n",
      "val_macro_f1: 0.7392980322030845, test_macro_f1: 0.7210638627341499\n",
      "Running: learning_rate=0.05, max_depth=3, n_estimators=300\n",
      "折數: 1/5\n",
      "val_macro_f1: 0.8026231138515638, test_macro_f1: 0.7947997061229909\n",
      "折數: 2/5\n",
      "val_macro_f1: 0.7989177119849136, test_macro_f1: 0.7935660801119727\n",
      "折數: 3/5\n",
      "val_macro_f1: 0.8028298777698163, test_macro_f1: 0.7905152822412727\n",
      "折數: 4/5\n",
      "val_macro_f1: 0.7955787826094975, test_macro_f1: 0.7857492490394754\n",
      "折數: 5/5\n",
      "val_macro_f1: 0.794012385576238, test_macro_f1: 0.7804971171373839\n",
      "Running: learning_rate=0.05, max_depth=5, n_estimators=100\n",
      "折數: 1/5\n",
      "val_macro_f1: 0.7405695960874619, test_macro_f1: 0.7199493364202937\n",
      "折數: 2/5\n",
      "val_macro_f1: 0.7296870073181753, test_macro_f1: 0.7252096982127227\n",
      "折數: 3/5\n",
      "val_macro_f1: 0.7364885447029095, test_macro_f1: 0.7200716150264009\n",
      "折數: 4/5\n",
      "val_macro_f1: 0.7493371293369898, test_macro_f1: 0.7155555312673133\n",
      "折數: 5/5\n",
      "val_macro_f1: 0.7200219773927133, test_macro_f1: 0.6970459140592006\n",
      "Running: learning_rate=0.05, max_depth=5, n_estimators=200\n",
      "折數: 1/5\n",
      "val_macro_f1: 0.8108454940626802, test_macro_f1: 0.8027780070076665\n",
      "折數: 2/5\n",
      "val_macro_f1: 0.8057892658934419, test_macro_f1: 0.7976833299982752\n",
      "折數: 3/5\n",
      "val_macro_f1: 0.8078292754810327, test_macro_f1: 0.8127146618460287\n",
      "折數: 4/5\n",
      "val_macro_f1: 0.8067728851002043, test_macro_f1: 0.802544242219016\n",
      "折數: 5/5\n",
      "val_macro_f1: 0.804679788556414, test_macro_f1: 0.784169545813825\n",
      "Running: learning_rate=0.05, max_depth=5, n_estimators=300\n",
      "折數: 1/5\n",
      "val_macro_f1: 0.8322961850077948, test_macro_f1: 0.8180568658234385\n",
      "折數: 2/5\n",
      "val_macro_f1: 0.8333708157883152, test_macro_f1: 0.8277570487389064\n",
      "折數: 3/5\n",
      "val_macro_f1: 0.825104532275016, test_macro_f1: 0.8348769397928956\n",
      "折數: 4/5\n",
      "val_macro_f1: 0.8237335138115883, test_macro_f1: 0.8206857223083933\n",
      "折數: 5/5\n",
      "val_macro_f1: 0.8308297078554093, test_macro_f1: 0.8196516685314895\n",
      "Running: learning_rate=0.05, max_depth=7, n_estimators=100\n",
      "折數: 1/5\n",
      "val_macro_f1: 0.7850133243862242, test_macro_f1: 0.7759376641061632\n",
      "折數: 2/5\n",
      "val_macro_f1: 0.7758501421395985, test_macro_f1: 0.7688620183906711\n",
      "折數: 3/5\n",
      "val_macro_f1: 0.7854224505624346, test_macro_f1: 0.784969455195308\n",
      "折數: 4/5\n",
      "val_macro_f1: 0.7781740098317703, test_macro_f1: 0.7681046552811241\n",
      "折數: 5/5\n",
      "val_macro_f1: 0.7696834375792551, test_macro_f1: 0.7503381211562014\n",
      "Running: learning_rate=0.05, max_depth=7, n_estimators=200\n",
      "折數: 1/5\n",
      "val_macro_f1: 0.8250494951244355, test_macro_f1: 0.8133247144594183\n",
      "折數: 2/5\n",
      "val_macro_f1: 0.8255931175636705, test_macro_f1: 0.823088881158462\n",
      "折數: 3/5\n",
      "val_macro_f1: 0.8200495951647936, test_macro_f1: 0.833398641274179\n",
      "折數: 4/5\n",
      "val_macro_f1: 0.81560847248524, test_macro_f1: 0.8133128572426646\n",
      "折數: 5/5\n",
      "val_macro_f1: 0.822705747052144, test_macro_f1: 0.8085917989757493\n",
      "Running: learning_rate=0.05, max_depth=7, n_estimators=300\n",
      "折數: 1/5\n",
      "val_macro_f1: 0.8467295177202709, test_macro_f1: 0.8231048426310501\n",
      "折數: 2/5\n",
      "val_macro_f1: 0.8390262247443937, test_macro_f1: 0.829425244062041\n",
      "折數: 3/5\n",
      "val_macro_f1: 0.8259562899888482, test_macro_f1: 0.8448385726804725\n",
      "折數: 4/5\n",
      "val_macro_f1: 0.8371046359962486, test_macro_f1: 0.8326803020424373\n",
      "折數: 5/5\n",
      "val_macro_f1: 0.8377699179003044, test_macro_f1: 0.8261689324747152\n",
      "Running: learning_rate=0.05, max_depth=9, n_estimators=100\n",
      "折數: 1/5\n",
      "val_macro_f1: 0.8091371697228084, test_macro_f1: 0.8022898716470318\n",
      "折數: 2/5\n",
      "val_macro_f1: 0.7981628108229133, test_macro_f1: 0.7881980239129894\n",
      "折數: 3/5\n",
      "val_macro_f1: 0.8013129288037327, test_macro_f1: 0.809993708260754\n",
      "折數: 4/5\n",
      "val_macro_f1: 0.8006589333480146, test_macro_f1: 0.7824928463449226\n",
      "折數: 5/5\n",
      "val_macro_f1: 0.7965481458037251, test_macro_f1: 0.7821486368110117\n",
      "Running: learning_rate=0.05, max_depth=9, n_estimators=200\n",
      "折數: 1/5\n",
      "val_macro_f1: 0.8395528333799546, test_macro_f1: 0.8178145181708515\n",
      "折數: 2/5\n",
      "val_macro_f1: 0.8345814059779023, test_macro_f1: 0.8253241756157942\n",
      "折數: 3/5\n",
      "val_macro_f1: 0.8308055787998571, test_macro_f1: 0.8424520118644995\n",
      "折數: 4/5\n",
      "val_macro_f1: 0.8337988181670074, test_macro_f1: 0.8245905134607728\n",
      "折數: 5/5\n",
      "val_macro_f1: 0.830288886217811, test_macro_f1: 0.8241942877526318\n",
      "Running: learning_rate=0.05, max_depth=9, n_estimators=300\n",
      "折數: 1/5\n",
      "val_macro_f1: 0.8517418774069442, test_macro_f1: 0.8294928203083454\n",
      "折數: 2/5\n",
      "val_macro_f1: 0.8475368419182215, test_macro_f1: 0.8339030468593766\n",
      "折數: 3/5\n",
      "val_macro_f1: 0.8383055139066494, test_macro_f1: 0.8528314828396947\n",
      "折數: 4/5\n",
      "val_macro_f1: 0.8432599415419166, test_macro_f1: 0.8383894542637048\n",
      "折數: 5/5\n",
      "val_macro_f1: 0.8432533131213922, test_macro_f1: 0.8307095143826095\n",
      "Running: learning_rate=0.1, max_depth=3, n_estimators=100\n",
      "折數: 1/5\n",
      "val_macro_f1: 0.7580809566213688, test_macro_f1: 0.7397481330782621\n",
      "折數: 2/5\n",
      "val_macro_f1: 0.7566105646943795, test_macro_f1: 0.7504549878777946\n",
      "折數: 3/5\n",
      "val_macro_f1: 0.7609198189926628, test_macro_f1: 0.7456957062946046\n",
      "折數: 4/5\n",
      "val_macro_f1: 0.7558710528200713, test_macro_f1: 0.7355548538463745\n",
      "折數: 5/5\n",
      "val_macro_f1: 0.7435242977073023, test_macro_f1: 0.7239616940996259\n",
      "Running: learning_rate=0.1, max_depth=3, n_estimators=200\n",
      "折數: 1/5\n",
      "val_macro_f1: 0.8252407229227309, test_macro_f1: 0.815674053949664\n",
      "折數: 2/5\n",
      "val_macro_f1: 0.8176763188124884, test_macro_f1: 0.8146613771997813\n",
      "折數: 3/5\n",
      "val_macro_f1: 0.8226189777399969, test_macro_f1: 0.8210328085833392\n",
      "折數: 4/5\n",
      "val_macro_f1: 0.8166287986765083, test_macro_f1: 0.8173435589616315\n",
      "折數: 5/5\n",
      "val_macro_f1: 0.8205472574495724, test_macro_f1: 0.8094192411921202\n",
      "Running: learning_rate=0.1, max_depth=3, n_estimators=300\n",
      "折數: 1/5\n",
      "val_macro_f1: 0.8479489765852263, test_macro_f1: 0.8315129269357598\n",
      "折數: 2/5\n",
      "val_macro_f1: 0.843009552615069, test_macro_f1: 0.8307361992127268\n",
      "折數: 3/5\n",
      "val_macro_f1: 0.8332676344274764, test_macro_f1: 0.8472933709076996\n",
      "折數: 4/5\n",
      "val_macro_f1: 0.8364417722216646, test_macro_f1: 0.836337874483983\n",
      "折數: 5/5\n",
      "val_macro_f1: 0.8413851034753681, test_macro_f1: 0.8292261391174801\n",
      "Running: learning_rate=0.1, max_depth=5, n_estimators=100\n",
      "折數: 1/5\n",
      "val_macro_f1: 0.814452705420938, test_macro_f1: 0.8057613080661041\n",
      "折數: 2/5\n",
      "val_macro_f1: 0.8075301068603635, test_macro_f1: 0.8028894417290097\n",
      "折數: 3/5\n",
      "val_macro_f1: 0.8083660245789174, test_macro_f1: 0.8207336902033716\n",
      "折數: 4/5\n",
      "val_macro_f1: 0.8057770210888231, test_macro_f1: 0.7992767250621188\n",
      "折數: 5/5\n",
      "val_macro_f1: 0.805066451978243, test_macro_f1: 0.7925940462600765\n",
      "Running: learning_rate=0.1, max_depth=5, n_estimators=200\n",
      "折數: 1/5\n",
      "val_macro_f1: 0.8465670726042059, test_macro_f1: 0.8338499562545625\n",
      "折數: 2/5\n",
      "val_macro_f1: 0.8452283566890495, test_macro_f1: 0.8334965508157395\n",
      "折數: 3/5\n",
      "val_macro_f1: 0.8295891295055945, test_macro_f1: 0.8440472171770604\n",
      "折數: 4/5\n",
      "val_macro_f1: 0.8432257599844163, test_macro_f1: 0.8336776764324648\n",
      "折數: 5/5\n",
      "val_macro_f1: 0.8423022345428145, test_macro_f1: 0.8259091942840989\n",
      "Running: learning_rate=0.1, max_depth=5, n_estimators=300\n",
      "折數: 1/5\n",
      "val_macro_f1: 0.8606090188157095, test_macro_f1: 0.8357415458206768\n",
      "折數: 2/5\n",
      "val_macro_f1: 0.8484673865877541, test_macro_f1: 0.8443509234820868\n",
      "折數: 3/5\n",
      "val_macro_f1: 0.8382942797371803, test_macro_f1: 0.8526076125967738\n",
      "折數: 4/5\n",
      "val_macro_f1: 0.8468610119622597, test_macro_f1: 0.8439848335842096\n",
      "折數: 5/5\n",
      "val_macro_f1: 0.8518018188339919, test_macro_f1: 0.8345665164202084\n",
      "Running: learning_rate=0.1, max_depth=7, n_estimators=100\n",
      "折數: 1/5\n",
      "val_macro_f1: 0.8267872989778052, test_macro_f1: 0.8184450356100647\n",
      "折數: 2/5\n",
      "val_macro_f1: 0.8230113168522032, test_macro_f1: 0.8150664956733883\n",
      "折數: 3/5\n",
      "val_macro_f1: 0.8204106761912077, test_macro_f1: 0.8355200191085835\n",
      "折數: 4/5\n",
      "val_macro_f1: 0.8207579854468676, test_macro_f1: 0.8189460039157282\n",
      "折數: 5/5\n",
      "val_macro_f1: 0.8262516807729691, test_macro_f1: 0.8124075129761484\n",
      "Running: learning_rate=0.1, max_depth=7, n_estimators=200\n",
      "折數: 1/5\n",
      "val_macro_f1: 0.8524675713471291, test_macro_f1: 0.828962211588014\n",
      "折數: 2/5\n",
      "val_macro_f1: 0.8457335997838976, test_macro_f1: 0.8372308365877729\n",
      "折數: 3/5\n",
      "val_macro_f1: 0.8354427912092933, test_macro_f1: 0.8566644691665988\n",
      "折數: 4/5\n",
      "val_macro_f1: 0.8486741091697637, test_macro_f1: 0.845334429475963\n",
      "折數: 5/5\n",
      "val_macro_f1: 0.8466607824751321, test_macro_f1: 0.8266003557709575\n",
      "Running: learning_rate=0.1, max_depth=7, n_estimators=300\n",
      "折數: 1/5\n",
      "val_macro_f1: 0.85935296432291, test_macro_f1: 0.8404464854971677\n",
      "折數: 2/5\n",
      "val_macro_f1: 0.847016165593094, test_macro_f1: 0.8446616742295904\n",
      "折數: 3/5\n",
      "val_macro_f1: 0.8403197203405145, test_macro_f1: 0.8603561091523685\n",
      "折數: 4/5\n",
      "val_macro_f1: 0.8508822269189636, test_macro_f1: 0.8353616636602429\n",
      "折數: 5/5\n",
      "val_macro_f1: 0.8529163414021709, test_macro_f1: 0.8323058630682318\n",
      "Running: learning_rate=0.1, max_depth=9, n_estimators=100\n",
      "折數: 1/5\n",
      "val_macro_f1: 0.841090110091122, test_macro_f1: 0.8289731530647012\n",
      "折數: 2/5\n",
      "val_macro_f1: 0.8398803915471152, test_macro_f1: 0.8218537789603974\n",
      "折數: 3/5\n",
      "val_macro_f1: 0.8299451866533079, test_macro_f1: 0.8431670817376701\n",
      "折數: 4/5\n",
      "val_macro_f1: 0.8331218028132353, test_macro_f1: 0.8243052712369817\n",
      "折數: 5/5\n",
      "val_macro_f1: 0.829662007555365, test_macro_f1: 0.8230066909513593\n",
      "Running: learning_rate=0.1, max_depth=9, n_estimators=200\n",
      "折數: 1/5\n",
      "val_macro_f1: 0.8540363024922685, test_macro_f1: 0.8350789225269382\n",
      "折數: 2/5\n",
      "val_macro_f1: 0.8514722698351963, test_macro_f1: 0.8379662040721058\n",
      "折數: 3/5\n",
      "val_macro_f1: 0.8406149793634393, test_macro_f1: 0.8550953795774684\n",
      "折數: 4/5\n",
      "val_macro_f1: 0.8507921227494942, test_macro_f1: 0.8327246938309284\n",
      "折數: 5/5\n",
      "val_macro_f1: 0.8491758313672113, test_macro_f1: 0.8371533353434693\n",
      "Running: learning_rate=0.1, max_depth=9, n_estimators=300\n",
      "折數: 1/5\n",
      "val_macro_f1: 0.8607138376694333, test_macro_f1: 0.8449620946610644\n",
      "折數: 2/5\n",
      "val_macro_f1: 0.8543325616908573, test_macro_f1: 0.8356338693258291\n",
      "折數: 3/5\n",
      "val_macro_f1: 0.8430457062312383, test_macro_f1: 0.8609722966553135\n",
      "折數: 4/5\n",
      "val_macro_f1: 0.8513028978038925, test_macro_f1: 0.8306572252998192\n",
      "折數: 5/5\n",
      "val_macro_f1: 0.8569325316280049, test_macro_f1: 0.8376801653462221\n",
      "結果儲存完成\n"
     ]
    }
   ],
   "source": [
    "for learning_rate in param_grid['learning_rate']:\n",
    "    for max_depth in param_grid['max_depth']:\n",
    "        for n_estimators in param_grid['n_estimators']:\n",
    "            print(f\"Running: learning_rate={learning_rate}, max_depth={max_depth}, n_estimators={n_estimators}\")\n",
    "            \n",
    "            for fold, (train_idx, val_idx) in enumerate(skf.split(X_train_full, train_labels)):\n",
    "                print(f\"折數: {fold + 1}/{num_folds}\")\n",
    "                \n",
    "                # 分割訓練和驗證集\n",
    "                X_train_fold = X_train_full[train_idx]\n",
    "                X_val_fold = X_train_full[val_idx]\n",
    "                y_train_fold = [train_labels[i] for i in train_idx]\n",
    "                y_val_fold = [train_labels[i] for i in val_idx]\n",
    "                \n",
    "                # 初始化 XGBoost 分類器\n",
    "                xgb_model = xgb.XGBClassifier(learning_rate=learning_rate, max_depth=max_depth,\n",
    "                                              n_estimators=n_estimators, random_state=42)\n",
    "                \n",
    "                # 訓練模型\n",
    "                xgb_model.fit(X_train_fold, y_train_fold)\n",
    "                \n",
    "                # 驗證集預測\n",
    "                val_predictions = xgb_model.predict(X_val_fold)\n",
    "                test_predictions = xgb_model.predict(X_test)\n",
    "                \n",
    "                # 評估指標\n",
    "                val_accuracy = accuracy_score(y_val_fold, val_predictions)\n",
    "                val_precision = precision_score(y_val_fold, val_predictions, average='weighted')\n",
    "                val_recall = recall_score(y_val_fold, val_predictions, average='weighted')\n",
    "                val_f1 = f1_score(y_val_fold, val_predictions, average='weighted')\n",
    "                val_macro_f1 = f1_score(y_val_fold, val_predictions, average='macro')\n",
    "\n",
    "                test_accuracy = accuracy_score(test_labels, test_predictions)\n",
    "                test_precision = precision_score(test_labels, test_predictions, average='weighted')\n",
    "                test_recall = recall_score(test_labels, test_predictions, average='weighted')\n",
    "                test_f1 = f1_score(test_labels, test_predictions, average='weighted')\n",
    "                test_macro_f1 = f1_score(test_labels, test_predictions, average='macro')\n",
    "\n",
    "                print(f\"val_macro_f1: {val_macro_f1}, test_macro_f1: {test_macro_f1}\")\n",
    "                \n",
    "                # 添加結果\n",
    "                results.append({\n",
    "                    'Fold': fold + 1,\n",
    "                    'Val Accuracy': val_accuracy,\n",
    "                    'Val Precision': val_precision,\n",
    "                    'Val Recall': val_recall,\n",
    "                    'Val F1 Score': val_f1,\n",
    "                    'Val Macro F1': val_macro_f1,\n",
    "                    'Test Accuracy': test_accuracy,\n",
    "                    'Test Precision': test_precision,\n",
    "                    'Test Recall': test_recall,\n",
    "                    'Test F1 Score': test_f1,\n",
    "                    'Test Macro F1': test_macro_f1,\n",
    "                    'learning_rate': learning_rate,\n",
    "                    'max_depth': max_depth,\n",
    "                    'n_estimators': n_estimators\n",
    "                })\n",
    "\n",
    "\n",
    "results_df = pd.DataFrame(results)\n",
    "results_df.to_excel('/home/b10173209/test.file/X/x_integrate_results.xlsx', index=False)\n",
    "print(\"結果儲存完成\")"
   ]
  },
  {
   "cell_type": "code",
   "execution_count": 40,
   "id": "aa865629-f84a-4fdd-b28a-c134fa5099a5",
   "metadata": {},
   "outputs": [
    {
     "data": {
      "text/html": [
       "<div>\n",
       "<style scoped>\n",
       "    .dataframe tbody tr th:only-of-type {\n",
       "        vertical-align: middle;\n",
       "    }\n",
       "\n",
       "    .dataframe tbody tr th {\n",
       "        vertical-align: top;\n",
       "    }\n",
       "\n",
       "    .dataframe thead th {\n",
       "        text-align: right;\n",
       "    }\n",
       "</style>\n",
       "<table border=\"1\" class=\"dataframe\">\n",
       "  <thead>\n",
       "    <tr style=\"text-align: right;\">\n",
       "      <th></th>\n",
       "      <th>Fold</th>\n",
       "      <th>Val Accuracy</th>\n",
       "      <th>Val Precision</th>\n",
       "      <th>Val Recall</th>\n",
       "      <th>Val F1 Score</th>\n",
       "      <th>Val Macro F1</th>\n",
       "      <th>Test Accuracy</th>\n",
       "      <th>Test Precision</th>\n",
       "      <th>Test Recall</th>\n",
       "      <th>Test F1 Score</th>\n",
       "      <th>Test Macro F1</th>\n",
       "      <th>learning_rate</th>\n",
       "      <th>max_depth</th>\n",
       "      <th>n_estimators</th>\n",
       "    </tr>\n",
       "  </thead>\n",
       "  <tbody>\n",
       "    <tr>\n",
       "      <th>0</th>\n",
       "      <td>1</td>\n",
       "      <td>0.462778</td>\n",
       "      <td>0.755751</td>\n",
       "      <td>0.462778</td>\n",
       "      <td>0.388413</td>\n",
       "      <td>0.348981</td>\n",
       "      <td>0.4695</td>\n",
       "      <td>0.750484</td>\n",
       "      <td>0.4695</td>\n",
       "      <td>0.391908</td>\n",
       "      <td>0.324811</td>\n",
       "      <td>0.01</td>\n",
       "      <td>3</td>\n",
       "      <td>100</td>\n",
       "    </tr>\n",
       "    <tr>\n",
       "      <th>1</th>\n",
       "      <td>2</td>\n",
       "      <td>0.459167</td>\n",
       "      <td>0.742284</td>\n",
       "      <td>0.459167</td>\n",
       "      <td>0.383843</td>\n",
       "      <td>0.346539</td>\n",
       "      <td>0.4610</td>\n",
       "      <td>0.750818</td>\n",
       "      <td>0.4610</td>\n",
       "      <td>0.382901</td>\n",
       "      <td>0.325030</td>\n",
       "      <td>0.01</td>\n",
       "      <td>3</td>\n",
       "      <td>100</td>\n",
       "    </tr>\n",
       "    <tr>\n",
       "      <th>2</th>\n",
       "      <td>3</td>\n",
       "      <td>0.453889</td>\n",
       "      <td>0.759940</td>\n",
       "      <td>0.453889</td>\n",
       "      <td>0.379104</td>\n",
       "      <td>0.339800</td>\n",
       "      <td>0.4610</td>\n",
       "      <td>0.755533</td>\n",
       "      <td>0.4610</td>\n",
       "      <td>0.384076</td>\n",
       "      <td>0.324325</td>\n",
       "      <td>0.01</td>\n",
       "      <td>3</td>\n",
       "      <td>100</td>\n",
       "    </tr>\n",
       "    <tr>\n",
       "      <th>3</th>\n",
       "      <td>4</td>\n",
       "      <td>0.455000</td>\n",
       "      <td>0.753939</td>\n",
       "      <td>0.455000</td>\n",
       "      <td>0.377892</td>\n",
       "      <td>0.337504</td>\n",
       "      <td>0.4585</td>\n",
       "      <td>0.746791</td>\n",
       "      <td>0.4585</td>\n",
       "      <td>0.379600</td>\n",
       "      <td>0.318477</td>\n",
       "      <td>0.01</td>\n",
       "      <td>3</td>\n",
       "      <td>100</td>\n",
       "    </tr>\n",
       "    <tr>\n",
       "      <th>4</th>\n",
       "      <td>5</td>\n",
       "      <td>0.460278</td>\n",
       "      <td>0.745064</td>\n",
       "      <td>0.460278</td>\n",
       "      <td>0.388659</td>\n",
       "      <td>0.349057</td>\n",
       "      <td>0.4635</td>\n",
       "      <td>0.750898</td>\n",
       "      <td>0.4635</td>\n",
       "      <td>0.386588</td>\n",
       "      <td>0.324970</td>\n",
       "      <td>0.01</td>\n",
       "      <td>3</td>\n",
       "      <td>100</td>\n",
       "    </tr>\n",
       "    <tr>\n",
       "      <th>...</th>\n",
       "      <td>...</td>\n",
       "      <td>...</td>\n",
       "      <td>...</td>\n",
       "      <td>...</td>\n",
       "      <td>...</td>\n",
       "      <td>...</td>\n",
       "      <td>...</td>\n",
       "      <td>...</td>\n",
       "      <td>...</td>\n",
       "      <td>...</td>\n",
       "      <td>...</td>\n",
       "      <td>...</td>\n",
       "      <td>...</td>\n",
       "      <td>...</td>\n",
       "    </tr>\n",
       "    <tr>\n",
       "      <th>175</th>\n",
       "      <td>1</td>\n",
       "      <td>0.888056</td>\n",
       "      <td>0.889295</td>\n",
       "      <td>0.888056</td>\n",
       "      <td>0.888329</td>\n",
       "      <td>0.860714</td>\n",
       "      <td>0.8860</td>\n",
       "      <td>0.887589</td>\n",
       "      <td>0.8860</td>\n",
       "      <td>0.886568</td>\n",
       "      <td>0.844962</td>\n",
       "      <td>0.10</td>\n",
       "      <td>9</td>\n",
       "      <td>300</td>\n",
       "    </tr>\n",
       "    <tr>\n",
       "      <th>176</th>\n",
       "      <td>2</td>\n",
       "      <td>0.886389</td>\n",
       "      <td>0.888428</td>\n",
       "      <td>0.886389</td>\n",
       "      <td>0.887007</td>\n",
       "      <td>0.854333</td>\n",
       "      <td>0.8845</td>\n",
       "      <td>0.887609</td>\n",
       "      <td>0.8845</td>\n",
       "      <td>0.885702</td>\n",
       "      <td>0.835634</td>\n",
       "      <td>0.10</td>\n",
       "      <td>9</td>\n",
       "      <td>300</td>\n",
       "    </tr>\n",
       "    <tr>\n",
       "      <th>177</th>\n",
       "      <td>3</td>\n",
       "      <td>0.876111</td>\n",
       "      <td>0.877444</td>\n",
       "      <td>0.876111</td>\n",
       "      <td>0.876240</td>\n",
       "      <td>0.843046</td>\n",
       "      <td>0.8980</td>\n",
       "      <td>0.899216</td>\n",
       "      <td>0.8980</td>\n",
       "      <td>0.898326</td>\n",
       "      <td>0.860972</td>\n",
       "      <td>0.10</td>\n",
       "      <td>9</td>\n",
       "      <td>300</td>\n",
       "    </tr>\n",
       "    <tr>\n",
       "      <th>178</th>\n",
       "      <td>4</td>\n",
       "      <td>0.884444</td>\n",
       "      <td>0.886058</td>\n",
       "      <td>0.884444</td>\n",
       "      <td>0.884842</td>\n",
       "      <td>0.851303</td>\n",
       "      <td>0.8810</td>\n",
       "      <td>0.883315</td>\n",
       "      <td>0.8810</td>\n",
       "      <td>0.881916</td>\n",
       "      <td>0.830657</td>\n",
       "      <td>0.10</td>\n",
       "      <td>9</td>\n",
       "      <td>300</td>\n",
       "    </tr>\n",
       "    <tr>\n",
       "      <th>179</th>\n",
       "      <td>5</td>\n",
       "      <td>0.884722</td>\n",
       "      <td>0.885522</td>\n",
       "      <td>0.884722</td>\n",
       "      <td>0.884669</td>\n",
       "      <td>0.856933</td>\n",
       "      <td>0.8850</td>\n",
       "      <td>0.886687</td>\n",
       "      <td>0.8850</td>\n",
       "      <td>0.885603</td>\n",
       "      <td>0.837680</td>\n",
       "      <td>0.10</td>\n",
       "      <td>9</td>\n",
       "      <td>300</td>\n",
       "    </tr>\n",
       "  </tbody>\n",
       "</table>\n",
       "<p>180 rows × 14 columns</p>\n",
       "</div>"
      ],
      "text/plain": [
       "     Fold  Val Accuracy  Val Precision  Val Recall  Val F1 Score  \\\n",
       "0       1      0.462778       0.755751    0.462778      0.388413   \n",
       "1       2      0.459167       0.742284    0.459167      0.383843   \n",
       "2       3      0.453889       0.759940    0.453889      0.379104   \n",
       "3       4      0.455000       0.753939    0.455000      0.377892   \n",
       "4       5      0.460278       0.745064    0.460278      0.388659   \n",
       "..    ...           ...            ...         ...           ...   \n",
       "175     1      0.888056       0.889295    0.888056      0.888329   \n",
       "176     2      0.886389       0.888428    0.886389      0.887007   \n",
       "177     3      0.876111       0.877444    0.876111      0.876240   \n",
       "178     4      0.884444       0.886058    0.884444      0.884842   \n",
       "179     5      0.884722       0.885522    0.884722      0.884669   \n",
       "\n",
       "     Val Macro F1  Test Accuracy  Test Precision  Test Recall  Test F1 Score  \\\n",
       "0        0.348981         0.4695        0.750484       0.4695       0.391908   \n",
       "1        0.346539         0.4610        0.750818       0.4610       0.382901   \n",
       "2        0.339800         0.4610        0.755533       0.4610       0.384076   \n",
       "3        0.337504         0.4585        0.746791       0.4585       0.379600   \n",
       "4        0.349057         0.4635        0.750898       0.4635       0.386588   \n",
       "..            ...            ...             ...          ...            ...   \n",
       "175      0.860714         0.8860        0.887589       0.8860       0.886568   \n",
       "176      0.854333         0.8845        0.887609       0.8845       0.885702   \n",
       "177      0.843046         0.8980        0.899216       0.8980       0.898326   \n",
       "178      0.851303         0.8810        0.883315       0.8810       0.881916   \n",
       "179      0.856933         0.8850        0.886687       0.8850       0.885603   \n",
       "\n",
       "     Test Macro F1  learning_rate  max_depth  n_estimators  \n",
       "0         0.324811           0.01          3           100  \n",
       "1         0.325030           0.01          3           100  \n",
       "2         0.324325           0.01          3           100  \n",
       "3         0.318477           0.01          3           100  \n",
       "4         0.324970           0.01          3           100  \n",
       "..             ...            ...        ...           ...  \n",
       "175       0.844962           0.10          9           300  \n",
       "176       0.835634           0.10          9           300  \n",
       "177       0.860972           0.10          9           300  \n",
       "178       0.830657           0.10          9           300  \n",
       "179       0.837680           0.10          9           300  \n",
       "\n",
       "[180 rows x 14 columns]"
      ]
     },
     "execution_count": 40,
     "metadata": {},
     "output_type": "execute_result"
    }
   ],
   "source": [
    "results_df"
   ]
  },
  {
   "cell_type": "code",
   "execution_count": 41,
   "id": "bb877814-7eef-4ab2-a7a7-1385e7d09c57",
   "metadata": {},
   "outputs": [
    {
     "data": {
      "text/html": [
       "<div>\n",
       "<style scoped>\n",
       "    .dataframe tbody tr th:only-of-type {\n",
       "        vertical-align: middle;\n",
       "    }\n",
       "\n",
       "    .dataframe tbody tr th {\n",
       "        vertical-align: top;\n",
       "    }\n",
       "\n",
       "    .dataframe thead th {\n",
       "        text-align: right;\n",
       "    }\n",
       "</style>\n",
       "<table border=\"1\" class=\"dataframe\">\n",
       "  <thead>\n",
       "    <tr style=\"text-align: right;\">\n",
       "      <th></th>\n",
       "      <th>learning_rate</th>\n",
       "      <th>max_depth</th>\n",
       "      <th>n_estimators</th>\n",
       "      <th>Val Macro F1</th>\n",
       "    </tr>\n",
       "  </thead>\n",
       "  <tbody>\n",
       "    <tr>\n",
       "      <th>35</th>\n",
       "      <td>0.10</td>\n",
       "      <td>9</td>\n",
       "      <td>300</td>\n",
       "      <td>0.853266</td>\n",
       "    </tr>\n",
       "    <tr>\n",
       "      <th>32</th>\n",
       "      <td>0.10</td>\n",
       "      <td>7</td>\n",
       "      <td>300</td>\n",
       "      <td>0.850097</td>\n",
       "    </tr>\n",
       "    <tr>\n",
       "      <th>34</th>\n",
       "      <td>0.10</td>\n",
       "      <td>9</td>\n",
       "      <td>200</td>\n",
       "      <td>0.849218</td>\n",
       "    </tr>\n",
       "    <tr>\n",
       "      <th>29</th>\n",
       "      <td>0.10</td>\n",
       "      <td>5</td>\n",
       "      <td>300</td>\n",
       "      <td>0.849207</td>\n",
       "    </tr>\n",
       "    <tr>\n",
       "      <th>31</th>\n",
       "      <td>0.10</td>\n",
       "      <td>7</td>\n",
       "      <td>200</td>\n",
       "      <td>0.845796</td>\n",
       "    </tr>\n",
       "    <tr>\n",
       "      <th>23</th>\n",
       "      <td>0.05</td>\n",
       "      <td>9</td>\n",
       "      <td>300</td>\n",
       "      <td>0.844819</td>\n",
       "    </tr>\n",
       "    <tr>\n",
       "      <th>28</th>\n",
       "      <td>0.10</td>\n",
       "      <td>5</td>\n",
       "      <td>200</td>\n",
       "      <td>0.841383</td>\n",
       "    </tr>\n",
       "    <tr>\n",
       "      <th>26</th>\n",
       "      <td>0.10</td>\n",
       "      <td>3</td>\n",
       "      <td>300</td>\n",
       "      <td>0.840411</td>\n",
       "    </tr>\n",
       "    <tr>\n",
       "      <th>20</th>\n",
       "      <td>0.05</td>\n",
       "      <td>7</td>\n",
       "      <td>300</td>\n",
       "      <td>0.837317</td>\n",
       "    </tr>\n",
       "    <tr>\n",
       "      <th>33</th>\n",
       "      <td>0.10</td>\n",
       "      <td>9</td>\n",
       "      <td>100</td>\n",
       "      <td>0.834740</td>\n",
       "    </tr>\n",
       "    <tr>\n",
       "      <th>22</th>\n",
       "      <td>0.05</td>\n",
       "      <td>9</td>\n",
       "      <td>200</td>\n",
       "      <td>0.833806</td>\n",
       "    </tr>\n",
       "    <tr>\n",
       "      <th>17</th>\n",
       "      <td>0.05</td>\n",
       "      <td>5</td>\n",
       "      <td>300</td>\n",
       "      <td>0.829067</td>\n",
       "    </tr>\n",
       "    <tr>\n",
       "      <th>30</th>\n",
       "      <td>0.10</td>\n",
       "      <td>7</td>\n",
       "      <td>100</td>\n",
       "      <td>0.823444</td>\n",
       "    </tr>\n",
       "    <tr>\n",
       "      <th>19</th>\n",
       "      <td>0.05</td>\n",
       "      <td>7</td>\n",
       "      <td>200</td>\n",
       "      <td>0.821801</td>\n",
       "    </tr>\n",
       "    <tr>\n",
       "      <th>25</th>\n",
       "      <td>0.10</td>\n",
       "      <td>3</td>\n",
       "      <td>200</td>\n",
       "      <td>0.820542</td>\n",
       "    </tr>\n",
       "    <tr>\n",
       "      <th>27</th>\n",
       "      <td>0.10</td>\n",
       "      <td>5</td>\n",
       "      <td>100</td>\n",
       "      <td>0.808238</td>\n",
       "    </tr>\n",
       "    <tr>\n",
       "      <th>16</th>\n",
       "      <td>0.05</td>\n",
       "      <td>5</td>\n",
       "      <td>200</td>\n",
       "      <td>0.807183</td>\n",
       "    </tr>\n",
       "    <tr>\n",
       "      <th>21</th>\n",
       "      <td>0.05</td>\n",
       "      <td>9</td>\n",
       "      <td>100</td>\n",
       "      <td>0.801164</td>\n",
       "    </tr>\n",
       "    <tr>\n",
       "      <th>14</th>\n",
       "      <td>0.05</td>\n",
       "      <td>3</td>\n",
       "      <td>300</td>\n",
       "      <td>0.798792</td>\n",
       "    </tr>\n",
       "    <tr>\n",
       "      <th>18</th>\n",
       "      <td>0.05</td>\n",
       "      <td>7</td>\n",
       "      <td>100</td>\n",
       "      <td>0.778829</td>\n",
       "    </tr>\n",
       "    <tr>\n",
       "      <th>11</th>\n",
       "      <td>0.01</td>\n",
       "      <td>9</td>\n",
       "      <td>300</td>\n",
       "      <td>0.759045</td>\n",
       "    </tr>\n",
       "    <tr>\n",
       "      <th>24</th>\n",
       "      <td>0.10</td>\n",
       "      <td>3</td>\n",
       "      <td>100</td>\n",
       "      <td>0.755001</td>\n",
       "    </tr>\n",
       "    <tr>\n",
       "      <th>13</th>\n",
       "      <td>0.05</td>\n",
       "      <td>3</td>\n",
       "      <td>200</td>\n",
       "      <td>0.754385</td>\n",
       "    </tr>\n",
       "    <tr>\n",
       "      <th>15</th>\n",
       "      <td>0.05</td>\n",
       "      <td>5</td>\n",
       "      <td>100</td>\n",
       "      <td>0.735221</td>\n",
       "    </tr>\n",
       "    <tr>\n",
       "      <th>10</th>\n",
       "      <td>0.01</td>\n",
       "      <td>9</td>\n",
       "      <td>200</td>\n",
       "      <td>0.730521</td>\n",
       "    </tr>\n",
       "    <tr>\n",
       "      <th>8</th>\n",
       "      <td>0.01</td>\n",
       "      <td>7</td>\n",
       "      <td>300</td>\n",
       "      <td>0.725962</td>\n",
       "    </tr>\n",
       "    <tr>\n",
       "      <th>7</th>\n",
       "      <td>0.01</td>\n",
       "      <td>7</td>\n",
       "      <td>200</td>\n",
       "      <td>0.682468</td>\n",
       "    </tr>\n",
       "    <tr>\n",
       "      <th>9</th>\n",
       "      <td>0.01</td>\n",
       "      <td>9</td>\n",
       "      <td>100</td>\n",
       "      <td>0.675992</td>\n",
       "    </tr>\n",
       "    <tr>\n",
       "      <th>5</th>\n",
       "      <td>0.01</td>\n",
       "      <td>5</td>\n",
       "      <td>300</td>\n",
       "      <td>0.649194</td>\n",
       "    </tr>\n",
       "    <tr>\n",
       "      <th>6</th>\n",
       "      <td>0.01</td>\n",
       "      <td>7</td>\n",
       "      <td>100</td>\n",
       "      <td>0.622942</td>\n",
       "    </tr>\n",
       "    <tr>\n",
       "      <th>12</th>\n",
       "      <td>0.05</td>\n",
       "      <td>3</td>\n",
       "      <td>100</td>\n",
       "      <td>0.591179</td>\n",
       "    </tr>\n",
       "    <tr>\n",
       "      <th>4</th>\n",
       "      <td>0.01</td>\n",
       "      <td>5</td>\n",
       "      <td>200</td>\n",
       "      <td>0.583566</td>\n",
       "    </tr>\n",
       "    <tr>\n",
       "      <th>3</th>\n",
       "      <td>0.01</td>\n",
       "      <td>5</td>\n",
       "      <td>100</td>\n",
       "      <td>0.515552</td>\n",
       "    </tr>\n",
       "    <tr>\n",
       "      <th>2</th>\n",
       "      <td>0.01</td>\n",
       "      <td>3</td>\n",
       "      <td>300</td>\n",
       "      <td>0.431145</td>\n",
       "    </tr>\n",
       "    <tr>\n",
       "      <th>1</th>\n",
       "      <td>0.01</td>\n",
       "      <td>3</td>\n",
       "      <td>200</td>\n",
       "      <td>0.370474</td>\n",
       "    </tr>\n",
       "    <tr>\n",
       "      <th>0</th>\n",
       "      <td>0.01</td>\n",
       "      <td>3</td>\n",
       "      <td>100</td>\n",
       "      <td>0.344376</td>\n",
       "    </tr>\n",
       "  </tbody>\n",
       "</table>\n",
       "</div>"
      ],
      "text/plain": [
       "    learning_rate  max_depth  n_estimators  Val Macro F1\n",
       "35           0.10          9           300      0.853266\n",
       "32           0.10          7           300      0.850097\n",
       "34           0.10          9           200      0.849218\n",
       "29           0.10          5           300      0.849207\n",
       "31           0.10          7           200      0.845796\n",
       "23           0.05          9           300      0.844819\n",
       "28           0.10          5           200      0.841383\n",
       "26           0.10          3           300      0.840411\n",
       "20           0.05          7           300      0.837317\n",
       "33           0.10          9           100      0.834740\n",
       "22           0.05          9           200      0.833806\n",
       "17           0.05          5           300      0.829067\n",
       "30           0.10          7           100      0.823444\n",
       "19           0.05          7           200      0.821801\n",
       "25           0.10          3           200      0.820542\n",
       "27           0.10          5           100      0.808238\n",
       "16           0.05          5           200      0.807183\n",
       "21           0.05          9           100      0.801164\n",
       "14           0.05          3           300      0.798792\n",
       "18           0.05          7           100      0.778829\n",
       "11           0.01          9           300      0.759045\n",
       "24           0.10          3           100      0.755001\n",
       "13           0.05          3           200      0.754385\n",
       "15           0.05          5           100      0.735221\n",
       "10           0.01          9           200      0.730521\n",
       "8            0.01          7           300      0.725962\n",
       "7            0.01          7           200      0.682468\n",
       "9            0.01          9           100      0.675992\n",
       "5            0.01          5           300      0.649194\n",
       "6            0.01          7           100      0.622942\n",
       "12           0.05          3           100      0.591179\n",
       "4            0.01          5           200      0.583566\n",
       "3            0.01          5           100      0.515552\n",
       "2            0.01          3           300      0.431145\n",
       "1            0.01          3           200      0.370474\n",
       "0            0.01          3           100      0.344376"
      ]
     },
     "execution_count": 41,
     "metadata": {},
     "output_type": "execute_result"
    }
   ],
   "source": [
    "# Group data by parameter combinations and calculate mean Val Macro F1 score\n",
    "grouped_results = results_df.groupby(['learning_rate', 'max_depth', 'n_estimators']).agg({\n",
    "    'Val Macro F1': 'mean'\n",
    "}).reset_index()\n",
    "\n",
    "# Sort results by Val Macro F1 score\n",
    "sorted_results_macro_only = grouped_results.sort_values(by='Val Macro F1', ascending=False)\n",
    "\n",
    "sorted_results_macro_only"
   ]
  },
  {
   "cell_type": "code",
   "execution_count": 42,
   "id": "8f20163b-b7ae-4b1d-ac45-74d6a4e303f5",
   "metadata": {},
   "outputs": [],
   "source": [
    "# 在DataFrame中創建一個新的列，結合 'Max Depth' 和 'N Estimators' 的值\n",
    "grouped_results['Params Combination'] = grouped_results.apply(lambda x: f\"Depth {x['max_depth']} - Estimators {x['n_estimators']}\", axis=1)\n",
    "\n",
    "# 選擇一個顏色方案\n",
    "color_scheme = px.colors.qualitative.Plotly"
   ]
  },
  {
   "cell_type": "code",
   "execution_count": 45,
   "id": "eb6c6ea7-a1d8-464f-9931-b5710f117e66",
   "metadata": {},
   "outputs": [],
   "source": [
    "symbol_map = {\n",
    "    'Depth 3 - Estimators 100': 'circle',\n",
    "    'Depth 5 - Estimators 100': 'square',\n",
    "    'Depth 7 - Estimators 100': 'diamond',\n",
    "    'Depth 9 - Estimators 100': 'cross',\n",
    "    'Depth 3 - Estimators 200': 'triangle-up',\n",
    "    'Depth 5 - Estimators 200': 'triangle-down',\n",
    "    'Depth 7 - Estimators 200': 'hexagram',\n",
    "    'Depth 9 - Estimators 200': 'star'\n",
    "}\n",
    "\n",
    "line_dash_map_corrected = {\n",
    "    'Depth 3 - Estimators 100': 'solid',\n",
    "    'Depth 5 - Estimators 100': 'dot',\n",
    "    'Depth 7 - Estimators 100': 'dash',\n",
    "    'Depth 9 - Estimators 100': 'dashdot',\n",
    "    'Depth 3 - Estimators 200': 'longdash',\n",
    "    'Depth 5 - Estimators 200': 'longdashdot',\n",
    "    'Depth 7 - Estimators 200': 'dot',\n",
    "    'Depth 9 - Estimators 200': 'solid'\n",
    "}\n",
    "\n",
    "params_order = [\n",
    "    'Depth 3 - Estimators 100',\n",
    "    'Depth 3 - Estimators 200',\n",
    "    'Depth 3 - Estimators 300',\n",
    "    'Depth 5 - Estimators 100',\n",
    "    'Depth 5 - Estimators 200',\n",
    "    'Depth 5 - Estimators 300',\n",
    "    'Depth 7 - Estimators 100',\n",
    "    'Depth 7 - Estimators 200',\n",
    "    'Depth 7 - Estimators 300',\n",
    "    'Depth 9 - Estimators 100',\n",
    "    'Depth 9 - Estimators 200',\n",
    "    'Depth 9 - Estimators 300'\n",
    "]\n"
   ]
  },
  {
   "cell_type": "code",
   "execution_count": 51,
   "id": "5b9e919d-4710-4c02-bb2f-d5bcb13f0779",
   "metadata": {},
   "outputs": [
    {
     "data": {
      "application/vnd.plotly.v1+json": {
       "config": {
        "plotlyServerURL": "https://plot.ly"
       },
       "data": [
        {
         "hovertemplate": "Params Combination=Depth 3.0 - Estimators 100.0<br>learning_rate=%{x}<br>Val Macro F1=%{y}<extra></extra>",
         "legendgroup": "Depth 3.0 - Estimators 100.0",
         "line": {
          "color": "#00cc96",
          "dash": "solid"
         },
         "marker": {
          "symbol": "square"
         },
         "mode": "lines+markers",
         "name": "Depth 3.0 - Estimators 100.0",
         "orientation": "v",
         "showlegend": true,
         "type": "scatter",
         "x": [
          0.01,
          0.05,
          0.1
         ],
         "xaxis": "x",
         "y": [
          0.34437600169571275,
          0.5911789267240948,
          0.7550013381671569
         ],
         "yaxis": "y"
        },
        {
         "hovertemplate": "Params Combination=Depth 3.0 - Estimators 200.0<br>learning_rate=%{x}<br>Val Macro F1=%{y}<extra></extra>",
         "legendgroup": "Depth 3.0 - Estimators 200.0",
         "line": {
          "color": "#ab63fa",
          "dash": "dot"
         },
         "marker": {
          "symbol": "x"
         },
         "mode": "lines+markers",
         "name": "Depth 3.0 - Estimators 200.0",
         "orientation": "v",
         "showlegend": true,
         "type": "scatter",
         "x": [
          0.01,
          0.05,
          0.1
         ],
         "xaxis": "x",
         "y": [
          0.370474203011895,
          0.7543854164794876,
          0.8205424151202594
         ],
         "yaxis": "y"
        },
        {
         "hovertemplate": "Params Combination=Depth 3.0 - Estimators 300.0<br>learning_rate=%{x}<br>Val Macro F1=%{y}<extra></extra>",
         "legendgroup": "Depth 3.0 - Estimators 300.0",
         "line": {
          "color": "#FFA15A",
          "dash": "dash"
         },
         "marker": {
          "symbol": "cross"
         },
         "mode": "lines+markers",
         "name": "Depth 3.0 - Estimators 300.0",
         "orientation": "v",
         "showlegend": true,
         "type": "scatter",
         "x": [
          0.01,
          0.05,
          0.1
         ],
         "xaxis": "x",
         "y": [
          0.4311446828022431,
          0.7987923743584059,
          0.8404106078649608
         ],
         "yaxis": "y"
        },
        {
         "hovertemplate": "Params Combination=Depth 5.0 - Estimators 100.0<br>learning_rate=%{x}<br>Val Macro F1=%{y}<extra></extra>",
         "legendgroup": "Depth 5.0 - Estimators 100.0",
         "line": {
          "color": "#19d3f3",
          "dash": "longdash"
         },
         "marker": {
          "symbol": "circle"
         },
         "mode": "lines+markers",
         "name": "Depth 5.0 - Estimators 100.0",
         "orientation": "v",
         "showlegend": true,
         "type": "scatter",
         "x": [
          0.01,
          0.05,
          0.1
         ],
         "xaxis": "x",
         "y": [
          0.5155520211666843,
          0.7352208509676499,
          0.808238461985457
         ],
         "yaxis": "y"
        },
        {
         "hovertemplate": "Params Combination=Depth 5.0 - Estimators 200.0<br>learning_rate=%{x}<br>Val Macro F1=%{y}<extra></extra>",
         "legendgroup": "Depth 5.0 - Estimators 200.0",
         "line": {
          "color": "#FF6692",
          "dash": "dashdot"
         },
         "marker": {
          "symbol": "diamond"
         },
         "mode": "lines+markers",
         "name": "Depth 5.0 - Estimators 200.0",
         "orientation": "v",
         "showlegend": true,
         "type": "scatter",
         "x": [
          0.01,
          0.05,
          0.1
         ],
         "xaxis": "x",
         "y": [
          0.5835658273970823,
          0.8071833418187546,
          0.8413825106652162
         ],
         "yaxis": "y"
        },
        {
         "hovertemplate": "Params Combination=Depth 5.0 - Estimators 300.0<br>learning_rate=%{x}<br>Val Macro F1=%{y}<extra></extra>",
         "legendgroup": "Depth 5.0 - Estimators 300.0",
         "line": {
          "color": "#B6E880",
          "dash": "longdashdot"
         },
         "marker": {
          "symbol": "square"
         },
         "mode": "lines+markers",
         "name": "Depth 5.0 - Estimators 300.0",
         "orientation": "v",
         "showlegend": true,
         "type": "scatter",
         "x": [
          0.01,
          0.05,
          0.1
         ],
         "xaxis": "x",
         "y": [
          0.6491937723006628,
          0.8290669509476247,
          0.8492067031873791
         ],
         "yaxis": "y"
        },
        {
         "hovertemplate": "Params Combination=Depth 7.0 - Estimators 100.0<br>learning_rate=%{x}<br>Val Macro F1=%{y}<extra></extra>",
         "legendgroup": "Depth 7.0 - Estimators 100.0",
         "line": {
          "color": "#FF97FF",
          "dash": "solid"
         },
         "marker": {
          "symbol": "x"
         },
         "mode": "lines+markers",
         "name": "Depth 7.0 - Estimators 100.0",
         "orientation": "v",
         "showlegend": true,
         "type": "scatter",
         "x": [
          0.01,
          0.05,
          0.1
         ],
         "xaxis": "x",
         "y": [
          0.6229421278486874,
          0.7788286728998566,
          0.8234437916482106
         ],
         "yaxis": "y"
        },
        {
         "hovertemplate": "Params Combination=Depth 7.0 - Estimators 200.0<br>learning_rate=%{x}<br>Val Macro F1=%{y}<extra></extra>",
         "legendgroup": "Depth 7.0 - Estimators 200.0",
         "line": {
          "color": "#FECB52",
          "dash": "dot"
         },
         "marker": {
          "symbol": "cross"
         },
         "mode": "lines+markers",
         "name": "Depth 7.0 - Estimators 200.0",
         "orientation": "v",
         "showlegend": true,
         "type": "scatter",
         "x": [
          0.01,
          0.05,
          0.1
         ],
         "xaxis": "x",
         "y": [
          0.6824677975025755,
          0.8218012854780568,
          0.8457957707970432
         ],
         "yaxis": "y"
        },
        {
         "hovertemplate": "Params Combination=Depth 7.0 - Estimators 300.0<br>learning_rate=%{x}<br>Val Macro F1=%{y}<extra></extra>",
         "legendgroup": "Depth 7.0 - Estimators 300.0",
         "line": {
          "color": "#636efa",
          "dash": "dash"
         },
         "marker": {
          "symbol": "circle"
         },
         "mode": "lines+markers",
         "name": "Depth 7.0 - Estimators 300.0",
         "orientation": "v",
         "showlegend": true,
         "type": "scatter",
         "x": [
          0.01,
          0.05,
          0.1
         ],
         "xaxis": "x",
         "y": [
          0.7259617815653824,
          0.8373173172700131,
          0.8500974837155306
         ],
         "yaxis": "y"
        },
        {
         "hovertemplate": "Params Combination=Depth 9.0 - Estimators 100.0<br>learning_rate=%{x}<br>Val Macro F1=%{y}<extra></extra>",
         "legendgroup": "Depth 9.0 - Estimators 100.0",
         "line": {
          "color": "#EF553B",
          "dash": "longdash"
         },
         "marker": {
          "symbol": "diamond"
         },
         "mode": "lines+markers",
         "name": "Depth 9.0 - Estimators 100.0",
         "orientation": "v",
         "showlegend": true,
         "type": "scatter",
         "x": [
          0.01,
          0.05,
          0.1
         ],
         "xaxis": "x",
         "y": [
          0.6759920098166408,
          0.8011639977002389,
          0.834739899732029
         ],
         "yaxis": "y"
        },
        {
         "hovertemplate": "Params Combination=Depth 9.0 - Estimators 200.0<br>learning_rate=%{x}<br>Val Macro F1=%{y}<extra></extra>",
         "legendgroup": "Depth 9.0 - Estimators 200.0",
         "line": {
          "color": "#00cc96",
          "dash": "dashdot"
         },
         "marker": {
          "symbol": "square"
         },
         "mode": "lines+markers",
         "name": "Depth 9.0 - Estimators 200.0",
         "orientation": "v",
         "showlegend": true,
         "type": "scatter",
         "x": [
          0.01,
          0.05,
          0.1
         ],
         "xaxis": "x",
         "y": [
          0.7305207317760221,
          0.8338055045085065,
          0.849218301161522
         ],
         "yaxis": "y"
        },
        {
         "hovertemplate": "Params Combination=Depth 9.0 - Estimators 300.0<br>learning_rate=%{x}<br>Val Macro F1=%{y}<extra></extra>",
         "legendgroup": "Depth 9.0 - Estimators 300.0",
         "line": {
          "color": "#ab63fa",
          "dash": "longdashdot"
         },
         "marker": {
          "symbol": "x"
         },
         "mode": "lines+markers",
         "name": "Depth 9.0 - Estimators 300.0",
         "orientation": "v",
         "showlegend": true,
         "type": "scatter",
         "x": [
          0.01,
          0.05,
          0.1
         ],
         "xaxis": "x",
         "y": [
          0.7590447497542001,
          0.8448194975790247,
          0.8532655070046852
         ],
         "yaxis": "y"
        }
       ],
       "layout": {
        "autosize": true,
        "legend": {
         "orientation": "h",
         "title": {
          "text": "Depth and Estimators"
         },
         "tracegroupgap": 0,
         "x": 0.5,
         "xanchor": "center",
         "y": -0.1,
         "yanchor": "top"
        },
        "template": {
         "data": {
          "bar": [
           {
            "error_x": {
             "color": "#2a3f5f"
            },
            "error_y": {
             "color": "#2a3f5f"
            },
            "marker": {
             "line": {
              "color": "#E5ECF6",
              "width": 0.5
             },
             "pattern": {
              "fillmode": "overlay",
              "size": 10,
              "solidity": 0.2
             }
            },
            "type": "bar"
           }
          ],
          "barpolar": [
           {
            "marker": {
             "line": {
              "color": "#E5ECF6",
              "width": 0.5
             },
             "pattern": {
              "fillmode": "overlay",
              "size": 10,
              "solidity": 0.2
             }
            },
            "type": "barpolar"
           }
          ],
          "carpet": [
           {
            "aaxis": {
             "endlinecolor": "#2a3f5f",
             "gridcolor": "white",
             "linecolor": "white",
             "minorgridcolor": "white",
             "startlinecolor": "#2a3f5f"
            },
            "baxis": {
             "endlinecolor": "#2a3f5f",
             "gridcolor": "white",
             "linecolor": "white",
             "minorgridcolor": "white",
             "startlinecolor": "#2a3f5f"
            },
            "type": "carpet"
           }
          ],
          "choropleth": [
           {
            "colorbar": {
             "outlinewidth": 0,
             "ticks": ""
            },
            "type": "choropleth"
           }
          ],
          "contour": [
           {
            "colorbar": {
             "outlinewidth": 0,
             "ticks": ""
            },
            "colorscale": [
             [
              0,
              "#0d0887"
             ],
             [
              0.1111111111111111,
              "#46039f"
             ],
             [
              0.2222222222222222,
              "#7201a8"
             ],
             [
              0.3333333333333333,
              "#9c179e"
             ],
             [
              0.4444444444444444,
              "#bd3786"
             ],
             [
              0.5555555555555556,
              "#d8576b"
             ],
             [
              0.6666666666666666,
              "#ed7953"
             ],
             [
              0.7777777777777778,
              "#fb9f3a"
             ],
             [
              0.8888888888888888,
              "#fdca26"
             ],
             [
              1,
              "#f0f921"
             ]
            ],
            "type": "contour"
           }
          ],
          "contourcarpet": [
           {
            "colorbar": {
             "outlinewidth": 0,
             "ticks": ""
            },
            "type": "contourcarpet"
           }
          ],
          "heatmap": [
           {
            "colorbar": {
             "outlinewidth": 0,
             "ticks": ""
            },
            "colorscale": [
             [
              0,
              "#0d0887"
             ],
             [
              0.1111111111111111,
              "#46039f"
             ],
             [
              0.2222222222222222,
              "#7201a8"
             ],
             [
              0.3333333333333333,
              "#9c179e"
             ],
             [
              0.4444444444444444,
              "#bd3786"
             ],
             [
              0.5555555555555556,
              "#d8576b"
             ],
             [
              0.6666666666666666,
              "#ed7953"
             ],
             [
              0.7777777777777778,
              "#fb9f3a"
             ],
             [
              0.8888888888888888,
              "#fdca26"
             ],
             [
              1,
              "#f0f921"
             ]
            ],
            "type": "heatmap"
           }
          ],
          "heatmapgl": [
           {
            "colorbar": {
             "outlinewidth": 0,
             "ticks": ""
            },
            "colorscale": [
             [
              0,
              "#0d0887"
             ],
             [
              0.1111111111111111,
              "#46039f"
             ],
             [
              0.2222222222222222,
              "#7201a8"
             ],
             [
              0.3333333333333333,
              "#9c179e"
             ],
             [
              0.4444444444444444,
              "#bd3786"
             ],
             [
              0.5555555555555556,
              "#d8576b"
             ],
             [
              0.6666666666666666,
              "#ed7953"
             ],
             [
              0.7777777777777778,
              "#fb9f3a"
             ],
             [
              0.8888888888888888,
              "#fdca26"
             ],
             [
              1,
              "#f0f921"
             ]
            ],
            "type": "heatmapgl"
           }
          ],
          "histogram": [
           {
            "marker": {
             "pattern": {
              "fillmode": "overlay",
              "size": 10,
              "solidity": 0.2
             }
            },
            "type": "histogram"
           }
          ],
          "histogram2d": [
           {
            "colorbar": {
             "outlinewidth": 0,
             "ticks": ""
            },
            "colorscale": [
             [
              0,
              "#0d0887"
             ],
             [
              0.1111111111111111,
              "#46039f"
             ],
             [
              0.2222222222222222,
              "#7201a8"
             ],
             [
              0.3333333333333333,
              "#9c179e"
             ],
             [
              0.4444444444444444,
              "#bd3786"
             ],
             [
              0.5555555555555556,
              "#d8576b"
             ],
             [
              0.6666666666666666,
              "#ed7953"
             ],
             [
              0.7777777777777778,
              "#fb9f3a"
             ],
             [
              0.8888888888888888,
              "#fdca26"
             ],
             [
              1,
              "#f0f921"
             ]
            ],
            "type": "histogram2d"
           }
          ],
          "histogram2dcontour": [
           {
            "colorbar": {
             "outlinewidth": 0,
             "ticks": ""
            },
            "colorscale": [
             [
              0,
              "#0d0887"
             ],
             [
              0.1111111111111111,
              "#46039f"
             ],
             [
              0.2222222222222222,
              "#7201a8"
             ],
             [
              0.3333333333333333,
              "#9c179e"
             ],
             [
              0.4444444444444444,
              "#bd3786"
             ],
             [
              0.5555555555555556,
              "#d8576b"
             ],
             [
              0.6666666666666666,
              "#ed7953"
             ],
             [
              0.7777777777777778,
              "#fb9f3a"
             ],
             [
              0.8888888888888888,
              "#fdca26"
             ],
             [
              1,
              "#f0f921"
             ]
            ],
            "type": "histogram2dcontour"
           }
          ],
          "mesh3d": [
           {
            "colorbar": {
             "outlinewidth": 0,
             "ticks": ""
            },
            "type": "mesh3d"
           }
          ],
          "parcoords": [
           {
            "line": {
             "colorbar": {
              "outlinewidth": 0,
              "ticks": ""
             }
            },
            "type": "parcoords"
           }
          ],
          "pie": [
           {
            "automargin": true,
            "type": "pie"
           }
          ],
          "scatter": [
           {
            "fillpattern": {
             "fillmode": "overlay",
             "size": 10,
             "solidity": 0.2
            },
            "type": "scatter"
           }
          ],
          "scatter3d": [
           {
            "line": {
             "colorbar": {
              "outlinewidth": 0,
              "ticks": ""
             }
            },
            "marker": {
             "colorbar": {
              "outlinewidth": 0,
              "ticks": ""
             }
            },
            "type": "scatter3d"
           }
          ],
          "scattercarpet": [
           {
            "marker": {
             "colorbar": {
              "outlinewidth": 0,
              "ticks": ""
             }
            },
            "type": "scattercarpet"
           }
          ],
          "scattergeo": [
           {
            "marker": {
             "colorbar": {
              "outlinewidth": 0,
              "ticks": ""
             }
            },
            "type": "scattergeo"
           }
          ],
          "scattergl": [
           {
            "marker": {
             "colorbar": {
              "outlinewidth": 0,
              "ticks": ""
             }
            },
            "type": "scattergl"
           }
          ],
          "scattermapbox": [
           {
            "marker": {
             "colorbar": {
              "outlinewidth": 0,
              "ticks": ""
             }
            },
            "type": "scattermapbox"
           }
          ],
          "scatterpolar": [
           {
            "marker": {
             "colorbar": {
              "outlinewidth": 0,
              "ticks": ""
             }
            },
            "type": "scatterpolar"
           }
          ],
          "scatterpolargl": [
           {
            "marker": {
             "colorbar": {
              "outlinewidth": 0,
              "ticks": ""
             }
            },
            "type": "scatterpolargl"
           }
          ],
          "scatterternary": [
           {
            "marker": {
             "colorbar": {
              "outlinewidth": 0,
              "ticks": ""
             }
            },
            "type": "scatterternary"
           }
          ],
          "surface": [
           {
            "colorbar": {
             "outlinewidth": 0,
             "ticks": ""
            },
            "colorscale": [
             [
              0,
              "#0d0887"
             ],
             [
              0.1111111111111111,
              "#46039f"
             ],
             [
              0.2222222222222222,
              "#7201a8"
             ],
             [
              0.3333333333333333,
              "#9c179e"
             ],
             [
              0.4444444444444444,
              "#bd3786"
             ],
             [
              0.5555555555555556,
              "#d8576b"
             ],
             [
              0.6666666666666666,
              "#ed7953"
             ],
             [
              0.7777777777777778,
              "#fb9f3a"
             ],
             [
              0.8888888888888888,
              "#fdca26"
             ],
             [
              1,
              "#f0f921"
             ]
            ],
            "type": "surface"
           }
          ],
          "table": [
           {
            "cells": {
             "fill": {
              "color": "#EBF0F8"
             },
             "line": {
              "color": "white"
             }
            },
            "header": {
             "fill": {
              "color": "#C8D4E3"
             },
             "line": {
              "color": "white"
             }
            },
            "type": "table"
           }
          ]
         },
         "layout": {
          "annotationdefaults": {
           "arrowcolor": "#2a3f5f",
           "arrowhead": 0,
           "arrowwidth": 1
          },
          "autotypenumbers": "strict",
          "coloraxis": {
           "colorbar": {
            "outlinewidth": 0,
            "ticks": ""
           }
          },
          "colorscale": {
           "diverging": [
            [
             0,
             "#8e0152"
            ],
            [
             0.1,
             "#c51b7d"
            ],
            [
             0.2,
             "#de77ae"
            ],
            [
             0.3,
             "#f1b6da"
            ],
            [
             0.4,
             "#fde0ef"
            ],
            [
             0.5,
             "#f7f7f7"
            ],
            [
             0.6,
             "#e6f5d0"
            ],
            [
             0.7,
             "#b8e186"
            ],
            [
             0.8,
             "#7fbc41"
            ],
            [
             0.9,
             "#4d9221"
            ],
            [
             1,
             "#276419"
            ]
           ],
           "sequential": [
            [
             0,
             "#0d0887"
            ],
            [
             0.1111111111111111,
             "#46039f"
            ],
            [
             0.2222222222222222,
             "#7201a8"
            ],
            [
             0.3333333333333333,
             "#9c179e"
            ],
            [
             0.4444444444444444,
             "#bd3786"
            ],
            [
             0.5555555555555556,
             "#d8576b"
            ],
            [
             0.6666666666666666,
             "#ed7953"
            ],
            [
             0.7777777777777778,
             "#fb9f3a"
            ],
            [
             0.8888888888888888,
             "#fdca26"
            ],
            [
             1,
             "#f0f921"
            ]
           ],
           "sequentialminus": [
            [
             0,
             "#0d0887"
            ],
            [
             0.1111111111111111,
             "#46039f"
            ],
            [
             0.2222222222222222,
             "#7201a8"
            ],
            [
             0.3333333333333333,
             "#9c179e"
            ],
            [
             0.4444444444444444,
             "#bd3786"
            ],
            [
             0.5555555555555556,
             "#d8576b"
            ],
            [
             0.6666666666666666,
             "#ed7953"
            ],
            [
             0.7777777777777778,
             "#fb9f3a"
            ],
            [
             0.8888888888888888,
             "#fdca26"
            ],
            [
             1,
             "#f0f921"
            ]
           ]
          },
          "colorway": [
           "#636efa",
           "#EF553B",
           "#00cc96",
           "#ab63fa",
           "#FFA15A",
           "#19d3f3",
           "#FF6692",
           "#B6E880",
           "#FF97FF",
           "#FECB52"
          ],
          "font": {
           "color": "#2a3f5f"
          },
          "geo": {
           "bgcolor": "white",
           "lakecolor": "white",
           "landcolor": "#E5ECF6",
           "showlakes": true,
           "showland": true,
           "subunitcolor": "white"
          },
          "hoverlabel": {
           "align": "left"
          },
          "hovermode": "closest",
          "mapbox": {
           "style": "light"
          },
          "paper_bgcolor": "white",
          "plot_bgcolor": "#E5ECF6",
          "polar": {
           "angularaxis": {
            "gridcolor": "white",
            "linecolor": "white",
            "ticks": ""
           },
           "bgcolor": "#E5ECF6",
           "radialaxis": {
            "gridcolor": "white",
            "linecolor": "white",
            "ticks": ""
           }
          },
          "scene": {
           "xaxis": {
            "backgroundcolor": "#E5ECF6",
            "gridcolor": "white",
            "gridwidth": 2,
            "linecolor": "white",
            "showbackground": true,
            "ticks": "",
            "zerolinecolor": "white"
           },
           "yaxis": {
            "backgroundcolor": "#E5ECF6",
            "gridcolor": "white",
            "gridwidth": 2,
            "linecolor": "white",
            "showbackground": true,
            "ticks": "",
            "zerolinecolor": "white"
           },
           "zaxis": {
            "backgroundcolor": "#E5ECF6",
            "gridcolor": "white",
            "gridwidth": 2,
            "linecolor": "white",
            "showbackground": true,
            "ticks": "",
            "zerolinecolor": "white"
           }
          },
          "shapedefaults": {
           "line": {
            "color": "#2a3f5f"
           }
          },
          "ternary": {
           "aaxis": {
            "gridcolor": "white",
            "linecolor": "white",
            "ticks": ""
           },
           "baxis": {
            "gridcolor": "white",
            "linecolor": "white",
            "ticks": ""
           },
           "bgcolor": "#E5ECF6",
           "caxis": {
            "gridcolor": "white",
            "linecolor": "white",
            "ticks": ""
           }
          },
          "title": {
           "x": 0.05
          },
          "xaxis": {
           "automargin": true,
           "gridcolor": "white",
           "linecolor": "white",
           "ticks": "",
           "title": {
            "standoff": 15
           },
           "zerolinecolor": "white",
           "zerolinewidth": 2
          },
          "yaxis": {
           "automargin": true,
           "gridcolor": "white",
           "linecolor": "white",
           "ticks": "",
           "title": {
            "standoff": 15
           },
           "zerolinecolor": "white",
           "zerolinewidth": 2
          }
         }
        },
        "title": {
         "text": "Learning Rate與Val Macro F1的關係"
        },
        "xaxis": {
         "anchor": "y",
         "autorange": true,
         "domain": [
          0,
          1
         ],
         "range": [
          0.004503771337832472,
          0.10549622866216754
         ],
         "title": {
          "text": "Learning Rate"
         },
         "type": "linear"
        },
        "yaxis": {
         "anchor": "x",
         "autorange": true,
         "domain": [
          0,
          1
         ],
         "range": [
          0.31025344380661773,
          0.8873880648937802
         ],
         "title": {
          "text": "Val Macro F1"
         },
         "type": "linear"
        }
       }
      },
      "image/png": "[encoded data removed]",
      "text/html": [
       "<div>                            <div id=\"5c21ad86-0dee-4929-ae8f-e6034533a5c5\" class=\"plotly-graph-div\" style=\"height:650px; width:100%;\"></div>            <script type=\"text/javascript\">                require([\"plotly\"], function(Plotly) {                    window.PLOTLYENV=window.PLOTLYENV || {};                                    if (document.getElementById(\"5c21ad86-0dee-4929-ae8f-e6034533a5c5\")) {                    Plotly.newPlot(                        \"5c21ad86-0dee-4929-ae8f-e6034533a5c5\",                        [{\"hovertemplate\":\"Params Combination=Depth 3.0 - Estimators 100.0\\u003cbr\\u003elearning_rate=%{x}\\u003cbr\\u003eVal Macro F1=%{y}\\u003cextra\\u003e\\u003c\\u002fextra\\u003e\",\"legendgroup\":\"Depth 3.0 - Estimators 100.0\",\"line\":{\"color\":\"#00cc96\",\"dash\":\"solid\"},\"marker\":{\"symbol\":\"square\"},\"mode\":\"lines+markers\",\"name\":\"Depth 3.0 - Estimators 100.0\",\"orientation\":\"v\",\"showlegend\":true,\"x\":[0.01,0.05,0.1],\"xaxis\":\"x\",\"y\":[0.34437600169571275,0.5911789267240948,0.7550013381671569],\"yaxis\":\"y\",\"type\":\"scatter\"},{\"hovertemplate\":\"Params Combination=Depth 3.0 - Estimators 200.0\\u003cbr\\u003elearning_rate=%{x}\\u003cbr\\u003eVal Macro F1=%{y}\\u003cextra\\u003e\\u003c\\u002fextra\\u003e\",\"legendgroup\":\"Depth 3.0 - Estimators 200.0\",\"line\":{\"color\":\"#ab63fa\",\"dash\":\"dot\"},\"marker\":{\"symbol\":\"x\"},\"mode\":\"lines+markers\",\"name\":\"Depth 3.0 - Estimators 200.0\",\"orientation\":\"v\",\"showlegend\":true,\"x\":[0.01,0.05,0.1],\"xaxis\":\"x\",\"y\":[0.370474203011895,0.7543854164794876,0.8205424151202594],\"yaxis\":\"y\",\"type\":\"scatter\"},{\"hovertemplate\":\"Params Combination=Depth 3.0 - Estimators 300.0\\u003cbr\\u003elearning_rate=%{x}\\u003cbr\\u003eVal Macro F1=%{y}\\u003cextra\\u003e\\u003c\\u002fextra\\u003e\",\"legendgroup\":\"Depth 3.0 - Estimators 300.0\",\"line\":{\"color\":\"#FFA15A\",\"dash\":\"dash\"},\"marker\":{\"symbol\":\"cross\"},\"mode\":\"lines+markers\",\"name\":\"Depth 3.0 - Estimators 300.0\",\"orientation\":\"v\",\"showlegend\":true,\"x\":[0.01,0.05,0.1],\"xaxis\":\"x\",\"y\":[0.4311446828022431,0.7987923743584059,0.8404106078649608],\"yaxis\":\"y\",\"type\":\"scatter\"},{\"hovertemplate\":\"Params Combination=Depth 5.0 - Estimators 100.0\\u003cbr\\u003elearning_rate=%{x}\\u003cbr\\u003eVal Macro F1=%{y}\\u003cextra\\u003e\\u003c\\u002fextra\\u003e\",\"legendgroup\":\"Depth 5.0 - Estimators 100.0\",\"line\":{\"color\":\"#19d3f3\",\"dash\":\"longdash\"},\"marker\":{\"symbol\":\"circle\"},\"mode\":\"lines+markers\",\"name\":\"Depth 5.0 - Estimators 100.0\",\"orientation\":\"v\",\"showlegend\":true,\"x\":[0.01,0.05,0.1],\"xaxis\":\"x\",\"y\":[0.5155520211666843,0.7352208509676499,0.808238461985457],\"yaxis\":\"y\",\"type\":\"scatter\"},{\"hovertemplate\":\"Params Combination=Depth 5.0 - Estimators 200.0\\u003cbr\\u003elearning_rate=%{x}\\u003cbr\\u003eVal Macro F1=%{y}\\u003cextra\\u003e\\u003c\\u002fextra\\u003e\",\"legendgroup\":\"Depth 5.0 - Estimators 200.0\",\"line\":{\"color\":\"#FF6692\",\"dash\":\"dashdot\"},\"marker\":{\"symbol\":\"diamond\"},\"mode\":\"lines+markers\",\"name\":\"Depth 5.0 - Estimators 200.0\",\"orientation\":\"v\",\"showlegend\":true,\"x\":[0.01,0.05,0.1],\"xaxis\":\"x\",\"y\":[0.5835658273970823,0.8071833418187546,0.8413825106652162],\"yaxis\":\"y\",\"type\":\"scatter\"},{\"hovertemplate\":\"Params Combination=Depth 5.0 - Estimators 300.0\\u003cbr\\u003elearning_rate=%{x}\\u003cbr\\u003eVal Macro F1=%{y}\\u003cextra\\u003e\\u003c\\u002fextra\\u003e\",\"legendgroup\":\"Depth 5.0 - Estimators 300.0\",\"line\":{\"color\":\"#B6E880\",\"dash\":\"longdashdot\"},\"marker\":{\"symbol\":\"square\"},\"mode\":\"lines+markers\",\"name\":\"Depth 5.0 - Estimators 300.0\",\"orientation\":\"v\",\"showlegend\":true,\"x\":[0.01,0.05,0.1],\"xaxis\":\"x\",\"y\":[0.6491937723006628,0.8290669509476247,0.8492067031873791],\"yaxis\":\"y\",\"type\":\"scatter\"},{\"hovertemplate\":\"Params Combination=Depth 7.0 - Estimators 100.0\\u003cbr\\u003elearning_rate=%{x}\\u003cbr\\u003eVal Macro F1=%{y}\\u003cextra\\u003e\\u003c\\u002fextra\\u003e\",\"legendgroup\":\"Depth 7.0 - Estimators 100.0\",\"line\":{\"color\":\"#FF97FF\",\"dash\":\"solid\"},\"marker\":{\"symbol\":\"x\"},\"mode\":\"lines+markers\",\"name\":\"Depth 7.0 - Estimators 100.0\",\"orientation\":\"v\",\"showlegend\":true,\"x\":[0.01,0.05,0.1],\"xaxis\":\"x\",\"y\":[0.6229421278486874,0.7788286728998566,0.8234437916482106],\"yaxis\":\"y\",\"type\":\"scatter\"},{\"hovertemplate\":\"Params Combination=Depth 7.0 - Estimators 200.0\\u003cbr\\u003elearning_rate=%{x}\\u003cbr\\u003eVal Macro F1=%{y}\\u003cextra\\u003e\\u003c\\u002fextra\\u003e\",\"legendgroup\":\"Depth 7.0 - Estimators 200.0\",\"line\":{\"color\":\"#FECB52\",\"dash\":\"dot\"},\"marker\":{\"symbol\":\"cross\"},\"mode\":\"lines+markers\",\"name\":\"Depth 7.0 - Estimators 200.0\",\"orientation\":\"v\",\"showlegend\":true,\"x\":[0.01,0.05,0.1],\"xaxis\":\"x\",\"y\":[0.6824677975025755,0.8218012854780568,0.8457957707970432],\"yaxis\":\"y\",\"type\":\"scatter\"},{\"hovertemplate\":\"Params Combination=Depth 7.0 - Estimators 300.0\\u003cbr\\u003elearning_rate=%{x}\\u003cbr\\u003eVal Macro F1=%{y}\\u003cextra\\u003e\\u003c\\u002fextra\\u003e\",\"legendgroup\":\"Depth 7.0 - Estimators 300.0\",\"line\":{\"color\":\"#636efa\",\"dash\":\"dash\"},\"marker\":{\"symbol\":\"circle\"},\"mode\":\"lines+markers\",\"name\":\"Depth 7.0 - Estimators 300.0\",\"orientation\":\"v\",\"showlegend\":true,\"x\":[0.01,0.05,0.1],\"xaxis\":\"x\",\"y\":[0.7259617815653824,0.8373173172700131,0.8500974837155306],\"yaxis\":\"y\",\"type\":\"scatter\"},{\"hovertemplate\":\"Params Combination=Depth 9.0 - Estimators 100.0\\u003cbr\\u003elearning_rate=%{x}\\u003cbr\\u003eVal Macro F1=%{y}\\u003cextra\\u003e\\u003c\\u002fextra\\u003e\",\"legendgroup\":\"Depth 9.0 - Estimators 100.0\",\"line\":{\"color\":\"#EF553B\",\"dash\":\"longdash\"},\"marker\":{\"symbol\":\"diamond\"},\"mode\":\"lines+markers\",\"name\":\"Depth 9.0 - Estimators 100.0\",\"orientation\":\"v\",\"showlegend\":true,\"x\":[0.01,0.05,0.1],\"xaxis\":\"x\",\"y\":[0.6759920098166408,0.8011639977002389,0.834739899732029],\"yaxis\":\"y\",\"type\":\"scatter\"},{\"hovertemplate\":\"Params Combination=Depth 9.0 - Estimators 200.0\\u003cbr\\u003elearning_rate=%{x}\\u003cbr\\u003eVal Macro F1=%{y}\\u003cextra\\u003e\\u003c\\u002fextra\\u003e\",\"legendgroup\":\"Depth 9.0 - Estimators 200.0\",\"line\":{\"color\":\"#00cc96\",\"dash\":\"dashdot\"},\"marker\":{\"symbol\":\"square\"},\"mode\":\"lines+markers\",\"name\":\"Depth 9.0 - Estimators 200.0\",\"orientation\":\"v\",\"showlegend\":true,\"x\":[0.01,0.05,0.1],\"xaxis\":\"x\",\"y\":[0.7305207317760221,0.8338055045085065,0.849218301161522],\"yaxis\":\"y\",\"type\":\"scatter\"},{\"hovertemplate\":\"Params Combination=Depth 9.0 - Estimators 300.0\\u003cbr\\u003elearning_rate=%{x}\\u003cbr\\u003eVal Macro F1=%{y}\\u003cextra\\u003e\\u003c\\u002fextra\\u003e\",\"legendgroup\":\"Depth 9.0 - Estimators 300.0\",\"line\":{\"color\":\"#ab63fa\",\"dash\":\"longdashdot\"},\"marker\":{\"symbol\":\"x\"},\"mode\":\"lines+markers\",\"name\":\"Depth 9.0 - Estimators 300.0\",\"orientation\":\"v\",\"showlegend\":true,\"x\":[0.01,0.05,0.1],\"xaxis\":\"x\",\"y\":[0.7590447497542001,0.8448194975790247,0.8532655070046852],\"yaxis\":\"y\",\"type\":\"scatter\"}],                        {\"template\":{\"data\":{\"histogram2dcontour\":[{\"type\":\"histogram2dcontour\",\"colorbar\":{\"outlinewidth\":0,\"ticks\":\"\"},\"colorscale\":[[0.0,\"#0d0887\"],[0.1111111111111111,\"#46039f\"],[0.2222222222222222,\"#7201a8\"],[0.3333333333333333,\"#9c179e\"],[0.4444444444444444,\"#bd3786\"],[0.5555555555555556,\"#d8576b\"],[0.6666666666666666,\"#ed7953\"],[0.7777777777777778,\"#fb9f3a\"],[0.8888888888888888,\"#fdca26\"],[1.0,\"#f0f921\"]]}],\"choropleth\":[{\"type\":\"choropleth\",\"colorbar\":{\"outlinewidth\":0,\"ticks\":\"\"}}],\"histogram2d\":[{\"type\":\"histogram2d\",\"colorbar\":{\"outlinewidth\":0,\"ticks\":\"\"},\"colorscale\":[[0.0,\"#0d0887\"],[0.1111111111111111,\"#46039f\"],[0.2222222222222222,\"#7201a8\"],[0.3333333333333333,\"#9c179e\"],[0.4444444444444444,\"#bd3786\"],[0.5555555555555556,\"#d8576b\"],[0.6666666666666666,\"#ed7953\"],[0.7777777777777778,\"#fb9f3a\"],[0.8888888888888888,\"#fdca26\"],[1.0,\"#f0f921\"]]}],\"heatmap\":[{\"type\":\"heatmap\",\"colorbar\":{\"outlinewidth\":0,\"ticks\":\"\"},\"colorscale\":[[0.0,\"#0d0887\"],[0.1111111111111111,\"#46039f\"],[0.2222222222222222,\"#7201a8\"],[0.3333333333333333,\"#9c179e\"],[0.4444444444444444,\"#bd3786\"],[0.5555555555555556,\"#d8576b\"],[0.6666666666666666,\"#ed7953\"],[0.7777777777777778,\"#fb9f3a\"],[0.8888888888888888,\"#fdca26\"],[1.0,\"#f0f921\"]]}],\"heatmapgl\":[{\"type\":\"heatmapgl\",\"colorbar\":{\"outlinewidth\":0,\"ticks\":\"\"},\"colorscale\":[[0.0,\"#0d0887\"],[0.1111111111111111,\"#46039f\"],[0.2222222222222222,\"#7201a8\"],[0.3333333333333333,\"#9c179e\"],[0.4444444444444444,\"#bd3786\"],[0.5555555555555556,\"#d8576b\"],[0.6666666666666666,\"#ed7953\"],[0.7777777777777778,\"#fb9f3a\"],[0.8888888888888888,\"#fdca26\"],[1.0,\"#f0f921\"]]}],\"contourcarpet\":[{\"type\":\"contourcarpet\",\"colorbar\":{\"outlinewidth\":0,\"ticks\":\"\"}}],\"contour\":[{\"type\":\"contour\",\"colorbar\":{\"outlinewidth\":0,\"ticks\":\"\"},\"colorscale\":[[0.0,\"#0d0887\"],[0.1111111111111111,\"#46039f\"],[0.2222222222222222,\"#7201a8\"],[0.3333333333333333,\"#9c179e\"],[0.4444444444444444,\"#bd3786\"],[0.5555555555555556,\"#d8576b\"],[0.6666666666666666,\"#ed7953\"],[0.7777777777777778,\"#fb9f3a\"],[0.8888888888888888,\"#fdca26\"],[1.0,\"#f0f921\"]]}],\"surface\":[{\"type\":\"surface\",\"colorbar\":{\"outlinewidth\":0,\"ticks\":\"\"},\"colorscale\":[[0.0,\"#0d0887\"],[0.1111111111111111,\"#46039f\"],[0.2222222222222222,\"#7201a8\"],[0.3333333333333333,\"#9c179e\"],[0.4444444444444444,\"#bd3786\"],[0.5555555555555556,\"#d8576b\"],[0.6666666666666666,\"#ed7953\"],[0.7777777777777778,\"#fb9f3a\"],[0.8888888888888888,\"#fdca26\"],[1.0,\"#f0f921\"]]}],\"mesh3d\":[{\"type\":\"mesh3d\",\"colorbar\":{\"outlinewidth\":0,\"ticks\":\"\"}}],\"scatter\":[{\"fillpattern\":{\"fillmode\":\"overlay\",\"size\":10,\"solidity\":0.2},\"type\":\"scatter\"}],\"parcoords\":[{\"type\":\"parcoords\",\"line\":{\"colorbar\":{\"outlinewidth\":0,\"ticks\":\"\"}}}],\"scatterpolargl\":[{\"type\":\"scatterpolargl\",\"marker\":{\"colorbar\":{\"outlinewidth\":0,\"ticks\":\"\"}}}],\"bar\":[{\"error_x\":{\"color\":\"#2a3f5f\"},\"error_y\":{\"color\":\"#2a3f5f\"},\"marker\":{\"line\":{\"color\":\"#E5ECF6\",\"width\":0.5},\"pattern\":{\"fillmode\":\"overlay\",\"size\":10,\"solidity\":0.2}},\"type\":\"bar\"}],\"scattergeo\":[{\"type\":\"scattergeo\",\"marker\":{\"colorbar\":{\"outlinewidth\":0,\"ticks\":\"\"}}}],\"scatterpolar\":[{\"type\":\"scatterpolar\",\"marker\":{\"colorbar\":{\"outlinewidth\":0,\"ticks\":\"\"}}}],\"histogram\":[{\"marker\":{\"pattern\":{\"fillmode\":\"overlay\",\"size\":10,\"solidity\":0.2}},\"type\":\"histogram\"}],\"scattergl\":[{\"type\":\"scattergl\",\"marker\":{\"colorbar\":{\"outlinewidth\":0,\"ticks\":\"\"}}}],\"scatter3d\":[{\"type\":\"scatter3d\",\"line\":{\"colorbar\":{\"outlinewidth\":0,\"ticks\":\"\"}},\"marker\":{\"colorbar\":{\"outlinewidth\":0,\"ticks\":\"\"}}}],\"scattermapbox\":[{\"type\":\"scattermapbox\",\"marker\":{\"colorbar\":{\"outlinewidth\":0,\"ticks\":\"\"}}}],\"scatterternary\":[{\"type\":\"scatterternary\",\"marker\":{\"colorbar\":{\"outlinewidth\":0,\"ticks\":\"\"}}}],\"scattercarpet\":[{\"type\":\"scattercarpet\",\"marker\":{\"colorbar\":{\"outlinewidth\":0,\"ticks\":\"\"}}}],\"carpet\":[{\"aaxis\":{\"endlinecolor\":\"#2a3f5f\",\"gridcolor\":\"white\",\"linecolor\":\"white\",\"minorgridcolor\":\"white\",\"startlinecolor\":\"#2a3f5f\"},\"baxis\":{\"endlinecolor\":\"#2a3f5f\",\"gridcolor\":\"white\",\"linecolor\":\"white\",\"minorgridcolor\":\"white\",\"startlinecolor\":\"#2a3f5f\"},\"type\":\"carpet\"}],\"table\":[{\"cells\":{\"fill\":{\"color\":\"#EBF0F8\"},\"line\":{\"color\":\"white\"}},\"header\":{\"fill\":{\"color\":\"#C8D4E3\"},\"line\":{\"color\":\"white\"}},\"type\":\"table\"}],\"barpolar\":[{\"marker\":{\"line\":{\"color\":\"#E5ECF6\",\"width\":0.5},\"pattern\":{\"fillmode\":\"overlay\",\"size\":10,\"solidity\":0.2}},\"type\":\"barpolar\"}],\"pie\":[{\"automargin\":true,\"type\":\"pie\"}]},\"layout\":{\"autotypenumbers\":\"strict\",\"colorway\":[\"#636efa\",\"#EF553B\",\"#00cc96\",\"#ab63fa\",\"#FFA15A\",\"#19d3f3\",\"#FF6692\",\"#B6E880\",\"#FF97FF\",\"#FECB52\"],\"font\":{\"color\":\"#2a3f5f\"},\"hovermode\":\"closest\",\"hoverlabel\":{\"align\":\"left\"},\"paper_bgcolor\":\"white\",\"plot_bgcolor\":\"#E5ECF6\",\"polar\":{\"bgcolor\":\"#E5ECF6\",\"angularaxis\":{\"gridcolor\":\"white\",\"linecolor\":\"white\",\"ticks\":\"\"},\"radialaxis\":{\"gridcolor\":\"white\",\"linecolor\":\"white\",\"ticks\":\"\"}},\"ternary\":{\"bgcolor\":\"#E5ECF6\",\"aaxis\":{\"gridcolor\":\"white\",\"linecolor\":\"white\",\"ticks\":\"\"},\"baxis\":{\"gridcolor\":\"white\",\"linecolor\":\"white\",\"ticks\":\"\"},\"caxis\":{\"gridcolor\":\"white\",\"linecolor\":\"white\",\"ticks\":\"\"}},\"coloraxis\":{\"colorbar\":{\"outlinewidth\":0,\"ticks\":\"\"}},\"colorscale\":{\"sequential\":[[0.0,\"#0d0887\"],[0.1111111111111111,\"#46039f\"],[0.2222222222222222,\"#7201a8\"],[0.3333333333333333,\"#9c179e\"],[0.4444444444444444,\"#bd3786\"],[0.5555555555555556,\"#d8576b\"],[0.6666666666666666,\"#ed7953\"],[0.7777777777777778,\"#fb9f3a\"],[0.8888888888888888,\"#fdca26\"],[1.0,\"#f0f921\"]],\"sequentialminus\":[[0.0,\"#0d0887\"],[0.1111111111111111,\"#46039f\"],[0.2222222222222222,\"#7201a8\"],[0.3333333333333333,\"#9c179e\"],[0.4444444444444444,\"#bd3786\"],[0.5555555555555556,\"#d8576b\"],[0.6666666666666666,\"#ed7953\"],[0.7777777777777778,\"#fb9f3a\"],[0.8888888888888888,\"#fdca26\"],[1.0,\"#f0f921\"]],\"diverging\":[[0,\"#8e0152\"],[0.1,\"#c51b7d\"],[0.2,\"#de77ae\"],[0.3,\"#f1b6da\"],[0.4,\"#fde0ef\"],[0.5,\"#f7f7f7\"],[0.6,\"#e6f5d0\"],[0.7,\"#b8e186\"],[0.8,\"#7fbc41\"],[0.9,\"#4d9221\"],[1,\"#276419\"]]},\"xaxis\":{\"gridcolor\":\"white\",\"linecolor\":\"white\",\"ticks\":\"\",\"title\":{\"standoff\":15},\"zerolinecolor\":\"white\",\"automargin\":true,\"zerolinewidth\":2},\"yaxis\":{\"gridcolor\":\"white\",\"linecolor\":\"white\",\"ticks\":\"\",\"title\":{\"standoff\":15},\"zerolinecolor\":\"white\",\"automargin\":true,\"zerolinewidth\":2},\"scene\":{\"xaxis\":{\"backgroundcolor\":\"#E5ECF6\",\"gridcolor\":\"white\",\"linecolor\":\"white\",\"showbackground\":true,\"ticks\":\"\",\"zerolinecolor\":\"white\",\"gridwidth\":2},\"yaxis\":{\"backgroundcolor\":\"#E5ECF6\",\"gridcolor\":\"white\",\"linecolor\":\"white\",\"showbackground\":true,\"ticks\":\"\",\"zerolinecolor\":\"white\",\"gridwidth\":2},\"zaxis\":{\"backgroundcolor\":\"#E5ECF6\",\"gridcolor\":\"white\",\"linecolor\":\"white\",\"showbackground\":true,\"ticks\":\"\",\"zerolinecolor\":\"white\",\"gridwidth\":2}},\"shapedefaults\":{\"line\":{\"color\":\"#2a3f5f\"}},\"annotationdefaults\":{\"arrowcolor\":\"#2a3f5f\",\"arrowhead\":0,\"arrowwidth\":1},\"geo\":{\"bgcolor\":\"white\",\"landcolor\":\"#E5ECF6\",\"subunitcolor\":\"white\",\"showland\":true,\"showlakes\":true,\"lakecolor\":\"white\"},\"title\":{\"x\":0.05},\"mapbox\":{\"style\":\"light\"}}},\"xaxis\":{\"anchor\":\"y\",\"domain\":[0.0,1.0],\"title\":{\"text\":\"Learning Rate\"}},\"yaxis\":{\"anchor\":\"x\",\"domain\":[0.0,1.0],\"title\":{\"text\":\"Val Macro F1\"}},\"legend\":{\"title\":{\"text\":\"Depth and Estimators\"},\"tracegroupgap\":0,\"orientation\":\"h\",\"yanchor\":\"top\",\"y\":-0.1,\"xanchor\":\"center\",\"x\":0.5},\"title\":{\"text\":\"Learning Rate\\u8207Val Macro F1\\u7684\\u95dc\\u4fc2\"},\"height\":650},                        {\"responsive\": true}                    ).then(function(){\n",
       "                            \n",
       "var gd = document.getElementById('5c21ad86-0dee-4929-ae8f-e6034533a5c5');\n",
       "var x = new MutationObserver(function (mutations, observer) {{\n",
       "        var display = window.getComputedStyle(gd).display;\n",
       "        if (!display || display === 'none') {{\n",
       "            console.log([gd, 'removed!']);\n",
       "            Plotly.purge(gd);\n",
       "            observer.disconnect();\n",
       "        }}\n",
       "}});\n",
       "\n",
       "// Listen for the removal of the full notebook cells\n",
       "var notebookContainer = gd.closest('#notebook-container');\n",
       "if (notebookContainer) {{\n",
       "    x.observe(notebookContainer, {childList: true});\n",
       "}}\n",
       "\n",
       "// Listen for the clearing of the current output cell\n",
       "var outputEl = gd.closest('.output');\n",
       "if (outputEl) {{\n",
       "    x.observe(outputEl, {childList: true});\n",
       "}}\n",
       "\n",
       "                        })                };                });            </script>        </div>"
      ]
     },
     "metadata": {},
     "output_type": "display_data"
    }
   ],
   "source": [
    "fig = px.line(\n",
    "    grouped_results,\n",
    "    x='learning_rate',\n",
    "    y='Val Macro F1',\n",
    "    color='Params Combination',\n",
    "    markers=True,\n",
    "    symbol='Params Combination',\n",
    "    symbol_map=symbol_map,\n",
    "    line_dash='Params Combination',\n",
    "    line_dash_map=line_dash_map_corrected,\n",
    "    category_orders={'Params Combination': params_order},\n",
    "    title='Learning Rate與Val Macro F1的關係'\n",
    ")\n",
    "\n",
    "fig.update_layout(\n",
    "    legend_title_text='Depth and Estimators',\n",
    "    xaxis=dict(title='Learning Rate'),\n",
    "    yaxis=dict(title='Val Macro F1'),\n",
    "    legend=dict(\n",
    "        orientation=\"h\",  # 水平排列\n",
    "        yanchor=\"top\",    # 以圖例的頂部作為對齊點\n",
    "        y=-0.1,           # 調整圖例的垂直位置，負值將其移到圖表下方\n",
    "        xanchor=\"center\", # 以圖例的中心作為對齊點\n",
    "        x=0.5             # 圖例居中對齊\n",
    "    ),\n",
    "    height=650\n",
    ")\n",
    "\n",
    "# Save the reordered figure as an HTML file\n",
    "html_file_path_ordered = 'ALL_Plot.html'\n",
    "fig.write_html(html_file_path_ordered)\n",
    "\n",
    "html_file_path_ordered\n",
    "\n",
    "fig.show()\n"
   ]
  },
  {
   "cell_type": "code",
   "execution_count": null,
   "id": "8278220b-4877-4b07-ad05-ff2eeda2438d",
   "metadata": {},
   "outputs": [],
   "source": []
  }
 ],
 "metadata": {
  "kernelspec": {
   "display_name": "Python 3 (ipykernel)",
   "language": "python",
   "name": "python3"
  },
  "language_info": {
   "codemirror_mode": {
    "name": "ipython",
    "version": 3
   },
   "file_extension": ".py",
   "mimetype": "text/x-python",
   "name": "python",
   "nbconvert_exporter": "python",
   "pygments_lexer": "ipython3",
   "version": "3.8.10"
  }
 },
 "nbformat": 4,
 "nbformat_minor": 5
}
