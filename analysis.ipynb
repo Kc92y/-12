{
 "cells": [
  {
   "cell_type": "code",
   "execution_count": 1,
   "id": "ed95b7ce-343e-44dd-8a30-baee0732dbe8",
   "metadata": {},
   "outputs": [],
   "source": [
    "import pandas as pd"
   ]
  },
  {
   "cell_type": "code",
   "execution_count": 19,
   "id": "fe9e9b5a-e43a-43a5-907a-10c9a958a86d",
   "metadata": {},
   "outputs": [
    {
     "data": {
      "text/plain": [
       "{'all_results': {'val_macro_avg_f1': 0.8549722565815718,\n",
       "  'test_macro_avg_f1': 0.9308317998918282},\n",
       " 'integrate_results': {'val_macro_avg_f1': 0.6667217396617553,\n",
       "  'test_macro_avg_f1': 0.6623830553478613}}"
      ]
     },
     "execution_count": 19,
     "metadata": {},
     "output_type": "execute_result"
    }
   ],
   "source": [
    "#SVM\n",
    "\n",
    "integrate_results_path = '/home/b10173209/test.file/SS/integrate_results.xlsx'\n",
    "new_all_results_path = '/home/b10173209/test.file/SS/all_results.xlsx'\n",
    "new_all_results = pd.read_excel(new_all_results_path)\n",
    "integrate_results = pd.read_excel(integrate_results_path)\n",
    "\n",
    "if 'Test Macro F1' not in new_all_results.columns:\n",
    "    new_all_results['Test Macro F1'] = new_all_results[['Test Precision', 'Test Recall']].mean(axis=1)\n",
    "\n",
    "if 'Test Macro F1' not in integrate_results.columns:\n",
    "    integrate_results['Test Macro F1'] = integrate_results[['Test Precision', 'Test Recall']].mean(axis=1)\n",
    "\n",
    "\n",
    "val_macro_avg_f1_all_results = new_all_results['Val Macro F1'].mean()\n",
    "test_macro_avg_f1_all_results = new_all_results['Test Macro F1'].mean()\n",
    "\n",
    "val_macro_avg_f1_integrate_results = integrate_results['Val Macro F1'].mean()\n",
    "test_macro_avg_f1_integrate_results = integrate_results['Test Macro F1'].mean()\n",
    "\n",
    "results_summary = {\n",
    "    \"all_results\": {\n",
    "        \"val_macro_avg_f1\": val_macro_avg_f1_all_results,\n",
    "        \"test_macro_avg_f1\": test_macro_avg_f1_all_results\n",
    "    },\n",
    "    \"integrate_results\": {\n",
    "        \"val_macro_avg_f1\": val_macro_avg_f1_integrate_results,\n",
    "        \"test_macro_avg_f1\": test_macro_avg_f1_integrate_results\n",
    "    }\n",
    "}\n",
    "\n",
    "results_summary\n"
   ]
  },
  {
   "cell_type": "code",
   "execution_count": 20,
   "id": "2889b98b-20f2-4a55-8b91-97359217023a",
   "metadata": {},
   "outputs": [
    {
     "data": {
      "text/plain": [
       "{'all_results': {'val_macro_avg_f1': 0.8732715183195575,\n",
       "  'test_macro_avg_f1': 0.9366148246999884},\n",
       " 'integrate_results': {'val_macro_avg_f1': 0.7360039620671931,\n",
       "  'test_macro_avg_f1': 0.7226882049877358}}"
      ]
     },
     "execution_count": 20,
     "metadata": {},
     "output_type": "execute_result"
    }
   ],
   "source": [
    "#XGBoost\n",
    "\n",
    "integrate_results_path = '/home/b10173209/test.file/X/x_integrate_results.xlsx'\n",
    "new_all_results_path = '/home/b10173209/test.file/X/total_results.xlsx'\n",
    "new_all_results = pd.read_excel(new_all_results_path)\n",
    "integrate_results = pd.read_excel(integrate_results_path)\n",
    "\n",
    "if 'Test Macro F1' not in new_all_results.columns:\n",
    "    new_all_results['Test Macro F1'] = new_all_results[['Test Precision', 'Test Recall']].mean(axis=1)\n",
    "\n",
    "if 'Test Macro F1' not in integrate_results.columns:\n",
    "    integrate_results['Test Macro F1'] = integrate_results[['Test Precision', 'Test Recall']].mean(axis=1)\n",
    "\n",
    "\n",
    "val_macro_avg_f1_all_results = new_all_results['Val Macro F1'].mean()\n",
    "test_macro_avg_f1_all_results = new_all_results['Test Macro F1'].mean()\n",
    "\n",
    "val_macro_avg_f1_integrate_results = integrate_results['Val Macro F1'].mean()\n",
    "test_macro_avg_f1_integrate_results = integrate_results['Test Macro F1'].mean()\n",
    "\n",
    "results_summary = {\n",
    "    \"all_results\": {\n",
    "        \"val_macro_avg_f1\": val_macro_avg_f1_all_results,\n",
    "        \"test_macro_avg_f1\": test_macro_avg_f1_all_results\n",
    "    },\n",
    "    \"integrate_results\": {\n",
    "        \"val_macro_avg_f1\": val_macro_avg_f1_integrate_results,\n",
    "        \"test_macro_avg_f1\": test_macro_avg_f1_integrate_results\n",
    "    }\n",
    "}\n",
    "\n",
    "results_summary"
   ]
  },
  {
   "cell_type": "code",
   "execution_count": null,
   "id": "83885197-14b3-4d24-a559-ab5546afb074",
   "metadata": {},
   "outputs": [],
   "source": []
  }
 ],
 "metadata": {
  "kernelspec": {
   "display_name": "Python 3 (ipykernel)",
   "language": "python",
   "name": "python3"
  },
  "language_info": {
   "codemirror_mode": {
    "name": "ipython",
    "version": 3
   },
   "file_extension": ".py",
   "mimetype": "text/x-python",
   "name": "python",
   "nbconvert_exporter": "python",
   "pygments_lexer": "ipython3",
   "version": "3.8.10"
  }
 },
 "nbformat": 4,
 "nbformat_minor": 5
}
