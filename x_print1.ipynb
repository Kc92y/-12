{
 "cells": [
  {
   "cell_type": "code",
   "execution_count": 59,
   "id": "0f1294ba-59dd-4a2b-9b5f-52b0863b64aa",
   "metadata": {},
   "outputs": [
    {
     "name": "stdout",
     "output_type": "stream",
     "text": [
      "Requirement already satisfied: pandas in /home/b10173209/venv/lib/python3.8/site-packages (2.0.3)\n",
      "Requirement already satisfied: plotly in /home/b10173209/venv/lib/python3.8/site-packages (5.24.1)\n",
      "Requirement already satisfied: pytz>=2020.1 in /home/b10173209/venv/lib/python3.8/site-packages (from pandas) (2024.2)\n",
      "Requirement already satisfied: python-dateutil>=2.8.2 in /home/b10173209/venv/lib/python3.8/site-packages (from pandas) (2.9.0.post0)\n",
      "Requirement already satisfied: tzdata>=2022.1 in /home/b10173209/venv/lib/python3.8/site-packages (from pandas) (2024.2)\n",
      "Requirement already satisfied: numpy>=1.20.3; python_version < \"3.10\" in /home/b10173209/venv/lib/python3.8/site-packages (from pandas) (1.24.3)\n",
      "Requirement already satisfied: packaging in /home/b10173209/venv/lib/python3.8/site-packages (from plotly) (24.1)\n",
      "Requirement already satisfied: tenacity>=6.2.0 in /home/b10173209/venv/lib/python3.8/site-packages (from plotly) (9.0.0)\n",
      "Requirement already satisfied: six>=1.5 in /home/b10173209/venv/lib/python3.8/site-packages (from python-dateutil>=2.8.2->pandas) (1.16.0)\n"
     ]
    }
   ],
   "source": [
    "! pip install pandas plotly"
   ]
  },
  {
   "cell_type": "code",
   "execution_count": 60,
   "id": "dc180990-c95a-4634-8a99-35c168a40631",
   "metadata": {},
   "outputs": [],
   "source": [
    "import pandas as pd\n",
    "import plotly.express as px"
   ]
  },
  {
   "cell_type": "code",
   "execution_count": 61,
   "id": "b78b3f7e-4970-44bf-89af-bb33c87cd721",
   "metadata": {},
   "outputs": [],
   "source": [
    "# 讀取Excel文件\n",
    "df = pd.read_excel('/home/b10173209/test.file/X/total_results.xlsx')"
   ]
  },
  {
   "cell_type": "code",
   "execution_count": 65,
   "id": "905331b8-e932-4f06-98ae-731b83f89454",
   "metadata": {},
   "outputs": [
    {
     "data": {
      "text/html": [
       "<div>\n",
       "<style scoped>\n",
       "    .dataframe tbody tr th:only-of-type {\n",
       "        vertical-align: middle;\n",
       "    }\n",
       "\n",
       "    .dataframe tbody tr th {\n",
       "        vertical-align: top;\n",
       "    }\n",
       "\n",
       "    .dataframe thead th {\n",
       "        text-align: right;\n",
       "    }\n",
       "</style>\n",
       "<table border=\"1\" class=\"dataframe\">\n",
       "  <thead>\n",
       "    <tr style=\"text-align: right;\">\n",
       "      <th></th>\n",
       "      <th>learning_rate</th>\n",
       "      <th>max_depth</th>\n",
       "      <th>n_estimators</th>\n",
       "      <th>Val Macro F1</th>\n",
       "    </tr>\n",
       "  </thead>\n",
       "  <tbody>\n",
       "    <tr>\n",
       "      <th>35</th>\n",
       "      <td>0.10</td>\n",
       "      <td>9</td>\n",
       "      <td>300</td>\n",
       "      <td>0.904742</td>\n",
       "    </tr>\n",
       "    <tr>\n",
       "      <th>32</th>\n",
       "      <td>0.10</td>\n",
       "      <td>7</td>\n",
       "      <td>300</td>\n",
       "      <td>0.904486</td>\n",
       "    </tr>\n",
       "    <tr>\n",
       "      <th>34</th>\n",
       "      <td>0.10</td>\n",
       "      <td>9</td>\n",
       "      <td>200</td>\n",
       "      <td>0.902954</td>\n",
       "    </tr>\n",
       "    <tr>\n",
       "      <th>29</th>\n",
       "      <td>0.10</td>\n",
       "      <td>5</td>\n",
       "      <td>300</td>\n",
       "      <td>0.902894</td>\n",
       "    </tr>\n",
       "    <tr>\n",
       "      <th>31</th>\n",
       "      <td>0.10</td>\n",
       "      <td>7</td>\n",
       "      <td>200</td>\n",
       "      <td>0.902393</td>\n",
       "    </tr>\n",
       "    <tr>\n",
       "      <th>23</th>\n",
       "      <td>0.05</td>\n",
       "      <td>9</td>\n",
       "      <td>300</td>\n",
       "      <td>0.901746</td>\n",
       "    </tr>\n",
       "    <tr>\n",
       "      <th>28</th>\n",
       "      <td>0.10</td>\n",
       "      <td>5</td>\n",
       "      <td>200</td>\n",
       "      <td>0.899839</td>\n",
       "    </tr>\n",
       "    <tr>\n",
       "      <th>20</th>\n",
       "      <td>0.05</td>\n",
       "      <td>7</td>\n",
       "      <td>300</td>\n",
       "      <td>0.899718</td>\n",
       "    </tr>\n",
       "    <tr>\n",
       "      <th>26</th>\n",
       "      <td>0.10</td>\n",
       "      <td>3</td>\n",
       "      <td>300</td>\n",
       "      <td>0.899703</td>\n",
       "    </tr>\n",
       "    <tr>\n",
       "      <th>33</th>\n",
       "      <td>0.10</td>\n",
       "      <td>9</td>\n",
       "      <td>100</td>\n",
       "      <td>0.898387</td>\n",
       "    </tr>\n",
       "    <tr>\n",
       "      <th>22</th>\n",
       "      <td>0.05</td>\n",
       "      <td>9</td>\n",
       "      <td>200</td>\n",
       "      <td>0.898374</td>\n",
       "    </tr>\n",
       "    <tr>\n",
       "      <th>17</th>\n",
       "      <td>0.05</td>\n",
       "      <td>5</td>\n",
       "      <td>300</td>\n",
       "      <td>0.896581</td>\n",
       "    </tr>\n",
       "    <tr>\n",
       "      <th>30</th>\n",
       "      <td>0.10</td>\n",
       "      <td>7</td>\n",
       "      <td>100</td>\n",
       "      <td>0.895607</td>\n",
       "    </tr>\n",
       "    <tr>\n",
       "      <th>19</th>\n",
       "      <td>0.05</td>\n",
       "      <td>7</td>\n",
       "      <td>200</td>\n",
       "      <td>0.895446</td>\n",
       "    </tr>\n",
       "    <tr>\n",
       "      <th>25</th>\n",
       "      <td>0.10</td>\n",
       "      <td>3</td>\n",
       "      <td>200</td>\n",
       "      <td>0.894756</td>\n",
       "    </tr>\n",
       "    <tr>\n",
       "      <th>16</th>\n",
       "      <td>0.05</td>\n",
       "      <td>5</td>\n",
       "      <td>200</td>\n",
       "      <td>0.890342</td>\n",
       "    </tr>\n",
       "    <tr>\n",
       "      <th>27</th>\n",
       "      <td>0.10</td>\n",
       "      <td>5</td>\n",
       "      <td>100</td>\n",
       "      <td>0.890044</td>\n",
       "    </tr>\n",
       "    <tr>\n",
       "      <th>14</th>\n",
       "      <td>0.05</td>\n",
       "      <td>3</td>\n",
       "      <td>300</td>\n",
       "      <td>0.888483</td>\n",
       "    </tr>\n",
       "    <tr>\n",
       "      <th>21</th>\n",
       "      <td>0.05</td>\n",
       "      <td>9</td>\n",
       "      <td>100</td>\n",
       "      <td>0.887085</td>\n",
       "    </tr>\n",
       "    <tr>\n",
       "      <th>18</th>\n",
       "      <td>0.05</td>\n",
       "      <td>7</td>\n",
       "      <td>100</td>\n",
       "      <td>0.882266</td>\n",
       "    </tr>\n",
       "    <tr>\n",
       "      <th>24</th>\n",
       "      <td>0.10</td>\n",
       "      <td>3</td>\n",
       "      <td>100</td>\n",
       "      <td>0.880666</td>\n",
       "    </tr>\n",
       "    <tr>\n",
       "      <th>13</th>\n",
       "      <td>0.05</td>\n",
       "      <td>3</td>\n",
       "      <td>200</td>\n",
       "      <td>0.879157</td>\n",
       "    </tr>\n",
       "    <tr>\n",
       "      <th>11</th>\n",
       "      <td>0.01</td>\n",
       "      <td>9</td>\n",
       "      <td>300</td>\n",
       "      <td>0.875158</td>\n",
       "    </tr>\n",
       "    <tr>\n",
       "      <th>15</th>\n",
       "      <td>0.05</td>\n",
       "      <td>5</td>\n",
       "      <td>100</td>\n",
       "      <td>0.874047</td>\n",
       "    </tr>\n",
       "    <tr>\n",
       "      <th>8</th>\n",
       "      <td>0.01</td>\n",
       "      <td>7</td>\n",
       "      <td>300</td>\n",
       "      <td>0.867168</td>\n",
       "    </tr>\n",
       "    <tr>\n",
       "      <th>10</th>\n",
       "      <td>0.01</td>\n",
       "      <td>9</td>\n",
       "      <td>200</td>\n",
       "      <td>0.861382</td>\n",
       "    </tr>\n",
       "    <tr>\n",
       "      <th>12</th>\n",
       "      <td>0.05</td>\n",
       "      <td>3</td>\n",
       "      <td>100</td>\n",
       "      <td>0.856504</td>\n",
       "    </tr>\n",
       "    <tr>\n",
       "      <th>5</th>\n",
       "      <td>0.01</td>\n",
       "      <td>5</td>\n",
       "      <td>300</td>\n",
       "      <td>0.854108</td>\n",
       "    </tr>\n",
       "    <tr>\n",
       "      <th>7</th>\n",
       "      <td>0.01</td>\n",
       "      <td>7</td>\n",
       "      <td>200</td>\n",
       "      <td>0.851609</td>\n",
       "    </tr>\n",
       "    <tr>\n",
       "      <th>4</th>\n",
       "      <td>0.01</td>\n",
       "      <td>5</td>\n",
       "      <td>200</td>\n",
       "      <td>0.836066</td>\n",
       "    </tr>\n",
       "    <tr>\n",
       "      <th>2</th>\n",
       "      <td>0.01</td>\n",
       "      <td>3</td>\n",
       "      <td>300</td>\n",
       "      <td>0.831933</td>\n",
       "    </tr>\n",
       "    <tr>\n",
       "      <th>9</th>\n",
       "      <td>0.01</td>\n",
       "      <td>9</td>\n",
       "      <td>100</td>\n",
       "      <td>0.831377</td>\n",
       "    </tr>\n",
       "    <tr>\n",
       "      <th>6</th>\n",
       "      <td>0.01</td>\n",
       "      <td>7</td>\n",
       "      <td>100</td>\n",
       "      <td>0.819598</td>\n",
       "    </tr>\n",
       "    <tr>\n",
       "      <th>1</th>\n",
       "      <td>0.01</td>\n",
       "      <td>3</td>\n",
       "      <td>200</td>\n",
       "      <td>0.812546</td>\n",
       "    </tr>\n",
       "    <tr>\n",
       "      <th>3</th>\n",
       "      <td>0.01</td>\n",
       "      <td>5</td>\n",
       "      <td>100</td>\n",
       "      <td>0.801579</td>\n",
       "    </tr>\n",
       "    <tr>\n",
       "      <th>0</th>\n",
       "      <td>0.01</td>\n",
       "      <td>3</td>\n",
       "      <td>100</td>\n",
       "      <td>0.769028</td>\n",
       "    </tr>\n",
       "  </tbody>\n",
       "</table>\n",
       "</div>"
      ],
      "text/plain": [
       "    learning_rate  max_depth  n_estimators  Val Macro F1\n",
       "35           0.10          9           300      0.904742\n",
       "32           0.10          7           300      0.904486\n",
       "34           0.10          9           200      0.902954\n",
       "29           0.10          5           300      0.902894\n",
       "31           0.10          7           200      0.902393\n",
       "23           0.05          9           300      0.901746\n",
       "28           0.10          5           200      0.899839\n",
       "20           0.05          7           300      0.899718\n",
       "26           0.10          3           300      0.899703\n",
       "33           0.10          9           100      0.898387\n",
       "22           0.05          9           200      0.898374\n",
       "17           0.05          5           300      0.896581\n",
       "30           0.10          7           100      0.895607\n",
       "19           0.05          7           200      0.895446\n",
       "25           0.10          3           200      0.894756\n",
       "16           0.05          5           200      0.890342\n",
       "27           0.10          5           100      0.890044\n",
       "14           0.05          3           300      0.888483\n",
       "21           0.05          9           100      0.887085\n",
       "18           0.05          7           100      0.882266\n",
       "24           0.10          3           100      0.880666\n",
       "13           0.05          3           200      0.879157\n",
       "11           0.01          9           300      0.875158\n",
       "15           0.05          5           100      0.874047\n",
       "8            0.01          7           300      0.867168\n",
       "10           0.01          9           200      0.861382\n",
       "12           0.05          3           100      0.856504\n",
       "5            0.01          5           300      0.854108\n",
       "7            0.01          7           200      0.851609\n",
       "4            0.01          5           200      0.836066\n",
       "2            0.01          3           300      0.831933\n",
       "9            0.01          9           100      0.831377\n",
       "6            0.01          7           100      0.819598\n",
       "1            0.01          3           200      0.812546\n",
       "3            0.01          5           100      0.801579\n",
       "0            0.01          3           100      0.769028"
      ]
     },
     "execution_count": 65,
     "metadata": {},
     "output_type": "execute_result"
    }
   ],
   "source": [
    "# Group data by parameter combinations and calculate mean Val Macro F1 score\n",
    "grouped_results = df.groupby(['learning_rate', 'max_depth', 'n_estimators']).agg({\n",
    "    'Val Macro F1': 'mean'\n",
    "}).reset_index()\n",
    "\n",
    "# Sort results by Val Macro F1 score\n",
    "sorted_results_macro_only = grouped_results.sort_values(by='Val Macro F1', ascending=False)\n",
    "\n",
    "sorted_results_macro_only\n",
    "\n"
   ]
  },
  {
   "cell_type": "code",
   "execution_count": 66,
   "id": "2e4eaec5-aa2b-49db-86d9-9fdf2588f07a",
   "metadata": {},
   "outputs": [],
   "source": [
    "\n",
    "# 在DataFrame中創建一個新的列，結合 'Max Depth' 和 'N Estimators' 的值\n",
    "grouped_results['Params Combination'] = grouped_results.apply(lambda x: f\"Depth {x['max_depth']} - Estimators {x['n_estimators']}\", axis=1)\n",
    "\n",
    "# 選擇一個顏色方案\n",
    "color_scheme = px.colors.qualitative.Plotly"
   ]
  },
  {
   "cell_type": "code",
   "execution_count": 69,
   "id": "bcb4488a-2d2d-4353-b7cb-05ff68639822",
   "metadata": {},
   "outputs": [],
   "source": [
    "symbol_map = {\n",
    "    'Depth 3 - Estimators 100': 'circle',\n",
    "    'Depth 5 - Estimators 100': 'square',\n",
    "    'Depth 7 - Estimators 100': 'diamond',\n",
    "    'Depth 9 - Estimators 100': 'cross',\n",
    "    'Depth 3 - Estimators 200': 'triangle-up',\n",
    "    'Depth 5 - Estimators 200': 'triangle-down',\n",
    "    'Depth 7 - Estimators 200': 'hexagram',\n",
    "    'Depth 9 - Estimators 200': 'star'\n",
    "}\n",
    "\n",
    "line_dash_map_corrected = {\n",
    "    'Depth 3 - Estimators 100': 'solid',\n",
    "    'Depth 5 - Estimators 100': 'dot',\n",
    "    'Depth 7 - Estimators 100': 'dash',\n",
    "    'Depth 9 - Estimators 100': 'dashdot',\n",
    "    'Depth 3 - Estimators 200': 'longdash',\n",
    "    'Depth 5 - Estimators 200': 'longdashdot',\n",
    "    'Depth 7 - Estimators 200': 'dot',\n",
    "    'Depth 9 - Estimators 200': 'solid'\n",
    "}"
   ]
  },
  {
   "cell_type": "code",
   "execution_count": 78,
   "id": "398191d8-c850-4b1b-90ef-5d4e760f752a",
   "metadata": {},
   "outputs": [
    {
     "data": {
      "application/vnd.plotly.v1+json": {
       "config": {
        "plotlyServerURL": "https://plot.ly"
       },
       "data": [
        {
         "hovertemplate": "Params Combination=Depth 3.0 - Estimators 100.0<br>learning_rate=%{x}<br>Val Macro F1=%{y}<extra></extra>",
         "legendgroup": "Depth 3.0 - Estimators 100.0",
         "line": {
          "color": "#636efa",
          "dash": "dash"
         },
         "marker": {
          "symbol": "x"
         },
         "mode": "lines+markers",
         "name": "Depth 3.0 - Estimators 100.0",
         "orientation": "v",
         "showlegend": true,
         "type": "scatter",
         "x": [
          0.01,
          0.05,
          0.1
         ],
         "xaxis": "x",
         "y": [
          0.7690279445676039,
          0.8565040970348121,
          0.8806663536967712
         ],
         "yaxis": "y"
        },
        {
         "hovertemplate": "Params Combination=Depth 3.0 - Estimators 200.0<br>learning_rate=%{x}<br>Val Macro F1=%{y}<extra></extra>",
         "legendgroup": "Depth 3.0 - Estimators 200.0",
         "line": {
          "color": "#EF553B",
          "dash": "longdash"
         },
         "marker": {
          "symbol": "cross"
         },
         "mode": "lines+markers",
         "name": "Depth 3.0 - Estimators 200.0",
         "orientation": "v",
         "showlegend": true,
         "type": "scatter",
         "x": [
          0.01,
          0.05,
          0.1
         ],
         "xaxis": "x",
         "y": [
          0.8125459318264145,
          0.8791570023044086,
          0.8947559492108991
         ],
         "yaxis": "y"
        },
        {
         "hovertemplate": "Params Combination=Depth 3.0 - Estimators 300.0<br>learning_rate=%{x}<br>Val Macro F1=%{y}<extra></extra>",
         "legendgroup": "Depth 3.0 - Estimators 300.0",
         "line": {
          "color": "#00cc96",
          "dash": "dashdot"
         },
         "marker": {
          "symbol": "circle"
         },
         "mode": "lines+markers",
         "name": "Depth 3.0 - Estimators 300.0",
         "orientation": "v",
         "showlegend": true,
         "type": "scatter",
         "x": [
          0.01,
          0.05,
          0.1
         ],
         "xaxis": "x",
         "y": [
          0.8319328920687096,
          0.8884826400460746,
          0.899703366829242
         ],
         "yaxis": "y"
        },
        {
         "hovertemplate": "Params Combination=Depth 5.0 - Estimators 100.0<br>learning_rate=%{x}<br>Val Macro F1=%{y}<extra></extra>",
         "legendgroup": "Depth 5.0 - Estimators 100.0",
         "line": {
          "color": "#ab63fa",
          "dash": "longdashdot"
         },
         "marker": {
          "symbol": "diamond"
         },
         "mode": "lines+markers",
         "name": "Depth 5.0 - Estimators 100.0",
         "orientation": "v",
         "showlegend": true,
         "type": "scatter",
         "x": [
          0.01,
          0.05,
          0.1
         ],
         "xaxis": "x",
         "y": [
          0.8015792206409279,
          0.8740470199528593,
          0.8900444907905919
         ],
         "yaxis": "y"
        },
        {
         "hovertemplate": "Params Combination=Depth 5.0 - Estimators 200.0<br>learning_rate=%{x}<br>Val Macro F1=%{y}<extra></extra>",
         "legendgroup": "Depth 5.0 - Estimators 200.0",
         "line": {
          "color": "#FFA15A",
          "dash": "solid"
         },
         "marker": {
          "symbol": "square"
         },
         "mode": "lines+markers",
         "name": "Depth 5.0 - Estimators 200.0",
         "orientation": "v",
         "showlegend": true,
         "type": "scatter",
         "x": [
          0.01,
          0.05,
          0.1
         ],
         "xaxis": "x",
         "y": [
          0.8360658769135094,
          0.890341953276044,
          0.8998392986789975
         ],
         "yaxis": "y"
        },
        {
         "hovertemplate": "Params Combination=Depth 5.0 - Estimators 300.0<br>learning_rate=%{x}<br>Val Macro F1=%{y}<extra></extra>",
         "legendgroup": "Depth 5.0 - Estimators 300.0",
         "line": {
          "color": "#19d3f3",
          "dash": "dot"
         },
         "marker": {
          "symbol": "x"
         },
         "mode": "lines+markers",
         "name": "Depth 5.0 - Estimators 300.0",
         "orientation": "v",
         "showlegend": true,
         "type": "scatter",
         "x": [
          0.01,
          0.05,
          0.1
         ],
         "xaxis": "x",
         "y": [
          0.8541082095913898,
          0.8965809423556955,
          0.9028944933655437
         ],
         "yaxis": "y"
        },
        {
         "hovertemplate": "Params Combination=Depth 7.0 - Estimators 100.0<br>learning_rate=%{x}<br>Val Macro F1=%{y}<extra></extra>",
         "legendgroup": "Depth 7.0 - Estimators 100.0",
         "line": {
          "color": "#FF6692",
          "dash": "dash"
         },
         "marker": {
          "symbol": "cross"
         },
         "mode": "lines+markers",
         "name": "Depth 7.0 - Estimators 100.0",
         "orientation": "v",
         "showlegend": true,
         "type": "scatter",
         "x": [
          0.01,
          0.05,
          0.1
         ],
         "xaxis": "x",
         "y": [
          0.8195977446318085,
          0.8822658913432601,
          0.8956071891847661
         ],
         "yaxis": "y"
        },
        {
         "hovertemplate": "Params Combination=Depth 7.0 - Estimators 200.0<br>learning_rate=%{x}<br>Val Macro F1=%{y}<extra></extra>",
         "legendgroup": "Depth 7.0 - Estimators 200.0",
         "line": {
          "color": "#B6E880",
          "dash": "longdash"
         },
         "marker": {
          "symbol": "circle"
         },
         "mode": "lines+markers",
         "name": "Depth 7.0 - Estimators 200.0",
         "orientation": "v",
         "showlegend": true,
         "type": "scatter",
         "x": [
          0.01,
          0.05,
          0.1
         ],
         "xaxis": "x",
         "y": [
          0.8516090799520649,
          0.8954459910641287,
          0.9023928703707346
         ],
         "yaxis": "y"
        },
        {
         "hovertemplate": "Params Combination=Depth 7.0 - Estimators 300.0<br>learning_rate=%{x}<br>Val Macro F1=%{y}<extra></extra>",
         "legendgroup": "Depth 7.0 - Estimators 300.0",
         "line": {
          "color": "#FF97FF",
          "dash": "dashdot"
         },
         "marker": {
          "symbol": "diamond"
         },
         "mode": "lines+markers",
         "name": "Depth 7.0 - Estimators 300.0",
         "orientation": "v",
         "showlegend": true,
         "type": "scatter",
         "x": [
          0.01,
          0.05,
          0.1
         ],
         "xaxis": "x",
         "y": [
          0.8671682567405206,
          0.8997177462479086,
          0.9044861561819669
         ],
         "yaxis": "y"
        },
        {
         "hovertemplate": "Params Combination=Depth 9.0 - Estimators 100.0<br>learning_rate=%{x}<br>Val Macro F1=%{y}<extra></extra>",
         "legendgroup": "Depth 9.0 - Estimators 100.0",
         "line": {
          "color": "#FECB52",
          "dash": "longdashdot"
         },
         "marker": {
          "symbol": "square"
         },
         "mode": "lines+markers",
         "name": "Depth 9.0 - Estimators 100.0",
         "orientation": "v",
         "showlegend": true,
         "type": "scatter",
         "x": [
          0.01,
          0.05,
          0.1
         ],
         "xaxis": "x",
         "y": [
          0.8313772399397227,
          0.8870847592270674,
          0.8983872164312132
         ],
         "yaxis": "y"
        },
        {
         "hovertemplate": "Params Combination=Depth 9.0 - Estimators 200.0<br>learning_rate=%{x}<br>Val Macro F1=%{y}<extra></extra>",
         "legendgroup": "Depth 9.0 - Estimators 200.0",
         "line": {
          "color": "#636efa",
          "dash": "solid"
         },
         "marker": {
          "symbol": "x"
         },
         "mode": "lines+markers",
         "name": "Depth 9.0 - Estimators 200.0",
         "orientation": "v",
         "showlegend": true,
         "type": "scatter",
         "x": [
          0.01,
          0.05,
          0.1
         ],
         "xaxis": "x",
         "y": [
          0.8613821810106104,
          0.8983744290214746,
          0.9029540328813351
         ],
         "yaxis": "y"
        },
        {
         "hovertemplate": "Params Combination=Depth 9.0 - Estimators 300.0<br>learning_rate=%{x}<br>Val Macro F1=%{y}<extra></extra>",
         "legendgroup": "Depth 9.0 - Estimators 300.0",
         "line": {
          "color": "#EF553B",
          "dash": "dot"
         },
         "marker": {
          "symbol": "cross"
         },
         "mode": "lines+markers",
         "name": "Depth 9.0 - Estimators 300.0",
         "orientation": "v",
         "showlegend": true,
         "type": "scatter",
         "x": [
          0.01,
          0.05,
          0.1
         ],
         "xaxis": "x",
         "y": [
          0.8751582510946694,
          0.9017458322796443,
          0.9047421087506787
         ],
         "yaxis": "y"
        }
       ],
       "layout": {
        "autosize": true,
        "legend": {
         "orientation": "h",
         "title": {
          "text": "Depth and Estimators"
         },
         "tracegroupgap": 0,
         "x": 0.5,
         "xanchor": "center",
         "y": -0.4,
         "yanchor": "top"
        },
        "template": {
         "data": {
          "bar": [
           {
            "error_x": {
             "color": "#2a3f5f"
            },
            "error_y": {
             "color": "#2a3f5f"
            },
            "marker": {
             "line": {
              "color": "#E5ECF6",
              "width": 0.5
             },
             "pattern": {
              "fillmode": "overlay",
              "size": 10,
              "solidity": 0.2
             }
            },
            "type": "bar"
           }
          ],
          "barpolar": [
           {
            "marker": {
             "line": {
              "color": "#E5ECF6",
              "width": 0.5
             },
             "pattern": {
              "fillmode": "overlay",
              "size": 10,
              "solidity": 0.2
             }
            },
            "type": "barpolar"
           }
          ],
          "carpet": [
           {
            "aaxis": {
             "endlinecolor": "#2a3f5f",
             "gridcolor": "white",
             "linecolor": "white",
             "minorgridcolor": "white",
             "startlinecolor": "#2a3f5f"
            },
            "baxis": {
             "endlinecolor": "#2a3f5f",
             "gridcolor": "white",
             "linecolor": "white",
             "minorgridcolor": "white",
             "startlinecolor": "#2a3f5f"
            },
            "type": "carpet"
           }
          ],
          "choropleth": [
           {
            "colorbar": {
             "outlinewidth": 0,
             "ticks": ""
            },
            "type": "choropleth"
           }
          ],
          "contour": [
           {
            "colorbar": {
             "outlinewidth": 0,
             "ticks": ""
            },
            "colorscale": [
             [
              0,
              "#0d0887"
             ],
             [
              0.1111111111111111,
              "#46039f"
             ],
             [
              0.2222222222222222,
              "#7201a8"
             ],
             [
              0.3333333333333333,
              "#9c179e"
             ],
             [
              0.4444444444444444,
              "#bd3786"
             ],
             [
              0.5555555555555556,
              "#d8576b"
             ],
             [
              0.6666666666666666,
              "#ed7953"
             ],
             [
              0.7777777777777778,
              "#fb9f3a"
             ],
             [
              0.8888888888888888,
              "#fdca26"
             ],
             [
              1,
              "#f0f921"
             ]
            ],
            "type": "contour"
           }
          ],
          "contourcarpet": [
           {
            "colorbar": {
             "outlinewidth": 0,
             "ticks": ""
            },
            "type": "contourcarpet"
           }
          ],
          "heatmap": [
           {
            "colorbar": {
             "outlinewidth": 0,
             "ticks": ""
            },
            "colorscale": [
             [
              0,
              "#0d0887"
             ],
             [
              0.1111111111111111,
              "#46039f"
             ],
             [
              0.2222222222222222,
              "#7201a8"
             ],
             [
              0.3333333333333333,
              "#9c179e"
             ],
             [
              0.4444444444444444,
              "#bd3786"
             ],
             [
              0.5555555555555556,
              "#d8576b"
             ],
             [
              0.6666666666666666,
              "#ed7953"
             ],
             [
              0.7777777777777778,
              "#fb9f3a"
             ],
             [
              0.8888888888888888,
              "#fdca26"
             ],
             [
              1,
              "#f0f921"
             ]
            ],
            "type": "heatmap"
           }
          ],
          "heatmapgl": [
           {
            "colorbar": {
             "outlinewidth": 0,
             "ticks": ""
            },
            "colorscale": [
             [
              0,
              "#0d0887"
             ],
             [
              0.1111111111111111,
              "#46039f"
             ],
             [
              0.2222222222222222,
              "#7201a8"
             ],
             [
              0.3333333333333333,
              "#9c179e"
             ],
             [
              0.4444444444444444,
              "#bd3786"
             ],
             [
              0.5555555555555556,
              "#d8576b"
             ],
             [
              0.6666666666666666,
              "#ed7953"
             ],
             [
              0.7777777777777778,
              "#fb9f3a"
             ],
             [
              0.8888888888888888,
              "#fdca26"
             ],
             [
              1,
              "#f0f921"
             ]
            ],
            "type": "heatmapgl"
           }
          ],
          "histogram": [
           {
            "marker": {
             "pattern": {
              "fillmode": "overlay",
              "size": 10,
              "solidity": 0.2
             }
            },
            "type": "histogram"
           }
          ],
          "histogram2d": [
           {
            "colorbar": {
             "outlinewidth": 0,
             "ticks": ""
            },
            "colorscale": [
             [
              0,
              "#0d0887"
             ],
             [
              0.1111111111111111,
              "#46039f"
             ],
             [
              0.2222222222222222,
              "#7201a8"
             ],
             [
              0.3333333333333333,
              "#9c179e"
             ],
             [
              0.4444444444444444,
              "#bd3786"
             ],
             [
              0.5555555555555556,
              "#d8576b"
             ],
             [
              0.6666666666666666,
              "#ed7953"
             ],
             [
              0.7777777777777778,
              "#fb9f3a"
             ],
             [
              0.8888888888888888,
              "#fdca26"
             ],
             [
              1,
              "#f0f921"
             ]
            ],
            "type": "histogram2d"
           }
          ],
          "histogram2dcontour": [
           {
            "colorbar": {
             "outlinewidth": 0,
             "ticks": ""
            },
            "colorscale": [
             [
              0,
              "#0d0887"
             ],
             [
              0.1111111111111111,
              "#46039f"
             ],
             [
              0.2222222222222222,
              "#7201a8"
             ],
             [
              0.3333333333333333,
              "#9c179e"
             ],
             [
              0.4444444444444444,
              "#bd3786"
             ],
             [
              0.5555555555555556,
              "#d8576b"
             ],
             [
              0.6666666666666666,
              "#ed7953"
             ],
             [
              0.7777777777777778,
              "#fb9f3a"
             ],
             [
              0.8888888888888888,
              "#fdca26"
             ],
             [
              1,
              "#f0f921"
             ]
            ],
            "type": "histogram2dcontour"
           }
          ],
          "mesh3d": [
           {
            "colorbar": {
             "outlinewidth": 0,
             "ticks": ""
            },
            "type": "mesh3d"
           }
          ],
          "parcoords": [
           {
            "line": {
             "colorbar": {
              "outlinewidth": 0,
              "ticks": ""
             }
            },
            "type": "parcoords"
           }
          ],
          "pie": [
           {
            "automargin": true,
            "type": "pie"
           }
          ],
          "scatter": [
           {
            "fillpattern": {
             "fillmode": "overlay",
             "size": 10,
             "solidity": 0.2
            },
            "type": "scatter"
           }
          ],
          "scatter3d": [
           {
            "line": {
             "colorbar": {
              "outlinewidth": 0,
              "ticks": ""
             }
            },
            "marker": {
             "colorbar": {
              "outlinewidth": 0,
              "ticks": ""
             }
            },
            "type": "scatter3d"
           }
          ],
          "scattercarpet": [
           {
            "marker": {
             "colorbar": {
              "outlinewidth": 0,
              "ticks": ""
             }
            },
            "type": "scattercarpet"
           }
          ],
          "scattergeo": [
           {
            "marker": {
             "colorbar": {
              "outlinewidth": 0,
              "ticks": ""
             }
            },
            "type": "scattergeo"
           }
          ],
          "scattergl": [
           {
            "marker": {
             "colorbar": {
              "outlinewidth": 0,
              "ticks": ""
             }
            },
            "type": "scattergl"
           }
          ],
          "scattermapbox": [
           {
            "marker": {
             "colorbar": {
              "outlinewidth": 0,
              "ticks": ""
             }
            },
            "type": "scattermapbox"
           }
          ],
          "scatterpolar": [
           {
            "marker": {
             "colorbar": {
              "outlinewidth": 0,
              "ticks": ""
             }
            },
            "type": "scatterpolar"
           }
          ],
          "scatterpolargl": [
           {
            "marker": {
             "colorbar": {
              "outlinewidth": 0,
              "ticks": ""
             }
            },
            "type": "scatterpolargl"
           }
          ],
          "scatterternary": [
           {
            "marker": {
             "colorbar": {
              "outlinewidth": 0,
              "ticks": ""
             }
            },
            "type": "scatterternary"
           }
          ],
          "surface": [
           {
            "colorbar": {
             "outlinewidth": 0,
             "ticks": ""
            },
            "colorscale": [
             [
              0,
              "#0d0887"
             ],
             [
              0.1111111111111111,
              "#46039f"
             ],
             [
              0.2222222222222222,
              "#7201a8"
             ],
             [
              0.3333333333333333,
              "#9c179e"
             ],
             [
              0.4444444444444444,
              "#bd3786"
             ],
             [
              0.5555555555555556,
              "#d8576b"
             ],
             [
              0.6666666666666666,
              "#ed7953"
             ],
             [
              0.7777777777777778,
              "#fb9f3a"
             ],
             [
              0.8888888888888888,
              "#fdca26"
             ],
             [
              1,
              "#f0f921"
             ]
            ],
            "type": "surface"
           }
          ],
          "table": [
           {
            "cells": {
             "fill": {
              "color": "#EBF0F8"
             },
             "line": {
              "color": "white"
             }
            },
            "header": {
             "fill": {
              "color": "#C8D4E3"
             },
             "line": {
              "color": "white"
             }
            },
            "type": "table"
           }
          ]
         },
         "layout": {
          "annotationdefaults": {
           "arrowcolor": "#2a3f5f",
           "arrowhead": 0,
           "arrowwidth": 1
          },
          "autotypenumbers": "strict",
          "coloraxis": {
           "colorbar": {
            "outlinewidth": 0,
            "ticks": ""
           }
          },
          "colorscale": {
           "diverging": [
            [
             0,
             "#8e0152"
            ],
            [
             0.1,
             "#c51b7d"
            ],
            [
             0.2,
             "#de77ae"
            ],
            [
             0.3,
             "#f1b6da"
            ],
            [
             0.4,
             "#fde0ef"
            ],
            [
             0.5,
             "#f7f7f7"
            ],
            [
             0.6,
             "#e6f5d0"
            ],
            [
             0.7,
             "#b8e186"
            ],
            [
             0.8,
             "#7fbc41"
            ],
            [
             0.9,
             "#4d9221"
            ],
            [
             1,
             "#276419"
            ]
           ],
           "sequential": [
            [
             0,
             "#0d0887"
            ],
            [
             0.1111111111111111,
             "#46039f"
            ],
            [
             0.2222222222222222,
             "#7201a8"
            ],
            [
             0.3333333333333333,
             "#9c179e"
            ],
            [
             0.4444444444444444,
             "#bd3786"
            ],
            [
             0.5555555555555556,
             "#d8576b"
            ],
            [
             0.6666666666666666,
             "#ed7953"
            ],
            [
             0.7777777777777778,
             "#fb9f3a"
            ],
            [
             0.8888888888888888,
             "#fdca26"
            ],
            [
             1,
             "#f0f921"
            ]
           ],
           "sequentialminus": [
            [
             0,
             "#0d0887"
            ],
            [
             0.1111111111111111,
             "#46039f"
            ],
            [
             0.2222222222222222,
             "#7201a8"
            ],
            [
             0.3333333333333333,
             "#9c179e"
            ],
            [
             0.4444444444444444,
             "#bd3786"
            ],
            [
             0.5555555555555556,
             "#d8576b"
            ],
            [
             0.6666666666666666,
             "#ed7953"
            ],
            [
             0.7777777777777778,
             "#fb9f3a"
            ],
            [
             0.8888888888888888,
             "#fdca26"
            ],
            [
             1,
             "#f0f921"
            ]
           ]
          },
          "colorway": [
           "#636efa",
           "#EF553B",
           "#00cc96",
           "#ab63fa",
           "#FFA15A",
           "#19d3f3",
           "#FF6692",
           "#B6E880",
           "#FF97FF",
           "#FECB52"
          ],
          "font": {
           "color": "#2a3f5f"
          },
          "geo": {
           "bgcolor": "white",
           "lakecolor": "white",
           "landcolor": "#E5ECF6",
           "showlakes": true,
           "showland": true,
           "subunitcolor": "white"
          },
          "hoverlabel": {
           "align": "left"
          },
          "hovermode": "closest",
          "mapbox": {
           "style": "light"
          },
          "paper_bgcolor": "white",
          "plot_bgcolor": "#E5ECF6",
          "polar": {
           "angularaxis": {
            "gridcolor": "white",
            "linecolor": "white",
            "ticks": ""
           },
           "bgcolor": "#E5ECF6",
           "radialaxis": {
            "gridcolor": "white",
            "linecolor": "white",
            "ticks": ""
           }
          },
          "scene": {
           "xaxis": {
            "backgroundcolor": "#E5ECF6",
            "gridcolor": "white",
            "gridwidth": 2,
            "linecolor": "white",
            "showbackground": true,
            "ticks": "",
            "zerolinecolor": "white"
           },
           "yaxis": {
            "backgroundcolor": "#E5ECF6",
            "gridcolor": "white",
            "gridwidth": 2,
            "linecolor": "white",
            "showbackground": true,
            "ticks": "",
            "zerolinecolor": "white"
           },
           "zaxis": {
            "backgroundcolor": "#E5ECF6",
            "gridcolor": "white",
            "gridwidth": 2,
            "linecolor": "white",
            "showbackground": true,
            "ticks": "",
            "zerolinecolor": "white"
           }
          },
          "shapedefaults": {
           "line": {
            "color": "#2a3f5f"
           }
          },
          "ternary": {
           "aaxis": {
            "gridcolor": "white",
            "linecolor": "white",
            "ticks": ""
           },
           "baxis": {
            "gridcolor": "white",
            "linecolor": "white",
            "ticks": ""
           },
           "bgcolor": "#E5ECF6",
           "caxis": {
            "gridcolor": "white",
            "linecolor": "white",
            "ticks": ""
           }
          },
          "title": {
           "x": 0.05
          },
          "xaxis": {
           "automargin": true,
           "gridcolor": "white",
           "linecolor": "white",
           "ticks": "",
           "title": {
            "standoff": 15
           },
           "zerolinecolor": "white",
           "zerolinewidth": 2
          },
          "yaxis": {
           "automargin": true,
           "gridcolor": "white",
           "linecolor": "white",
           "ticks": "",
           "title": {
            "standoff": 15
           },
           "zerolinecolor": "white",
           "zerolinewidth": 2
          }
         }
        },
        "title": {
         "text": "Learning Rate與Val Macro F1的關係"
        },
        "xaxis": {
         "anchor": "y",
         "autorange": true,
         "domain": [
          0,
          1
         ],
         "range": [
          0.004503771337832472,
          0.10549622866216754
         ],
         "title": {
          "text": "Learning Rate"
         },
         "type": "linear"
        },
        "yaxis": {
         "anchor": "x",
         "autorange": true,
         "domain": [
          0,
          1
         ],
         "range": [
          0.7592335810440247,
          0.9145364722742579
         ],
         "title": {
          "text": "Val Macro F1"
         },
         "type": "linear"
        }
       }
      },
      "image/png": "[encoded data removed]",
      "text/html": [
       "<div>                            <div id=\"b3031562-3feb-4e6b-bd50-80c6029622b1\" class=\"plotly-graph-div\" style=\"height:600px; width:100%;\"></div>            <script type=\"text/javascript\">                require([\"plotly\"], function(Plotly) {                    window.PLOTLYENV=window.PLOTLYENV || {};                                    if (document.getElementById(\"b3031562-3feb-4e6b-bd50-80c6029622b1\")) {                    Plotly.newPlot(                        \"b3031562-3feb-4e6b-bd50-80c6029622b1\",                        [{\"hovertemplate\":\"Params Combination=Depth 3.0 - Estimators 100.0\\u003cbr\\u003elearning_rate=%{x}\\u003cbr\\u003eVal Macro F1=%{y}\\u003cextra\\u003e\\u003c\\u002fextra\\u003e\",\"legendgroup\":\"Depth 3.0 - Estimators 100.0\",\"line\":{\"color\":\"#636efa\",\"dash\":\"dash\"},\"marker\":{\"symbol\":\"x\"},\"mode\":\"lines+markers\",\"name\":\"Depth 3.0 - Estimators 100.0\",\"orientation\":\"v\",\"showlegend\":true,\"x\":[0.01,0.05,0.1],\"xaxis\":\"x\",\"y\":[0.7690279445676039,0.8565040970348121,0.8806663536967712],\"yaxis\":\"y\",\"type\":\"scatter\"},{\"hovertemplate\":\"Params Combination=Depth 3.0 - Estimators 200.0\\u003cbr\\u003elearning_rate=%{x}\\u003cbr\\u003eVal Macro F1=%{y}\\u003cextra\\u003e\\u003c\\u002fextra\\u003e\",\"legendgroup\":\"Depth 3.0 - Estimators 200.0\",\"line\":{\"color\":\"#EF553B\",\"dash\":\"longdash\"},\"marker\":{\"symbol\":\"cross\"},\"mode\":\"lines+markers\",\"name\":\"Depth 3.0 - Estimators 200.0\",\"orientation\":\"v\",\"showlegend\":true,\"x\":[0.01,0.05,0.1],\"xaxis\":\"x\",\"y\":[0.8125459318264145,0.8791570023044086,0.8947559492108991],\"yaxis\":\"y\",\"type\":\"scatter\"},{\"hovertemplate\":\"Params Combination=Depth 3.0 - Estimators 300.0\\u003cbr\\u003elearning_rate=%{x}\\u003cbr\\u003eVal Macro F1=%{y}\\u003cextra\\u003e\\u003c\\u002fextra\\u003e\",\"legendgroup\":\"Depth 3.0 - Estimators 300.0\",\"line\":{\"color\":\"#00cc96\",\"dash\":\"dashdot\"},\"marker\":{\"symbol\":\"circle\"},\"mode\":\"lines+markers\",\"name\":\"Depth 3.0 - Estimators 300.0\",\"orientation\":\"v\",\"showlegend\":true,\"x\":[0.01,0.05,0.1],\"xaxis\":\"x\",\"y\":[0.8319328920687096,0.8884826400460746,0.899703366829242],\"yaxis\":\"y\",\"type\":\"scatter\"},{\"hovertemplate\":\"Params Combination=Depth 5.0 - Estimators 100.0\\u003cbr\\u003elearning_rate=%{x}\\u003cbr\\u003eVal Macro F1=%{y}\\u003cextra\\u003e\\u003c\\u002fextra\\u003e\",\"legendgroup\":\"Depth 5.0 - Estimators 100.0\",\"line\":{\"color\":\"#ab63fa\",\"dash\":\"longdashdot\"},\"marker\":{\"symbol\":\"diamond\"},\"mode\":\"lines+markers\",\"name\":\"Depth 5.0 - Estimators 100.0\",\"orientation\":\"v\",\"showlegend\":true,\"x\":[0.01,0.05,0.1],\"xaxis\":\"x\",\"y\":[0.8015792206409279,0.8740470199528593,0.8900444907905919],\"yaxis\":\"y\",\"type\":\"scatter\"},{\"hovertemplate\":\"Params Combination=Depth 5.0 - Estimators 200.0\\u003cbr\\u003elearning_rate=%{x}\\u003cbr\\u003eVal Macro F1=%{y}\\u003cextra\\u003e\\u003c\\u002fextra\\u003e\",\"legendgroup\":\"Depth 5.0 - Estimators 200.0\",\"line\":{\"color\":\"#FFA15A\",\"dash\":\"solid\"},\"marker\":{\"symbol\":\"square\"},\"mode\":\"lines+markers\",\"name\":\"Depth 5.0 - Estimators 200.0\",\"orientation\":\"v\",\"showlegend\":true,\"x\":[0.01,0.05,0.1],\"xaxis\":\"x\",\"y\":[0.8360658769135094,0.890341953276044,0.8998392986789975],\"yaxis\":\"y\",\"type\":\"scatter\"},{\"hovertemplate\":\"Params Combination=Depth 5.0 - Estimators 300.0\\u003cbr\\u003elearning_rate=%{x}\\u003cbr\\u003eVal Macro F1=%{y}\\u003cextra\\u003e\\u003c\\u002fextra\\u003e\",\"legendgroup\":\"Depth 5.0 - Estimators 300.0\",\"line\":{\"color\":\"#19d3f3\",\"dash\":\"dot\"},\"marker\":{\"symbol\":\"x\"},\"mode\":\"lines+markers\",\"name\":\"Depth 5.0 - Estimators 300.0\",\"orientation\":\"v\",\"showlegend\":true,\"x\":[0.01,0.05,0.1],\"xaxis\":\"x\",\"y\":[0.8541082095913898,0.8965809423556955,0.9028944933655437],\"yaxis\":\"y\",\"type\":\"scatter\"},{\"hovertemplate\":\"Params Combination=Depth 7.0 - Estimators 100.0\\u003cbr\\u003elearning_rate=%{x}\\u003cbr\\u003eVal Macro F1=%{y}\\u003cextra\\u003e\\u003c\\u002fextra\\u003e\",\"legendgroup\":\"Depth 7.0 - Estimators 100.0\",\"line\":{\"color\":\"#FF6692\",\"dash\":\"dash\"},\"marker\":{\"symbol\":\"cross\"},\"mode\":\"lines+markers\",\"name\":\"Depth 7.0 - Estimators 100.0\",\"orientation\":\"v\",\"showlegend\":true,\"x\":[0.01,0.05,0.1],\"xaxis\":\"x\",\"y\":[0.8195977446318085,0.8822658913432601,0.8956071891847661],\"yaxis\":\"y\",\"type\":\"scatter\"},{\"hovertemplate\":\"Params Combination=Depth 7.0 - Estimators 200.0\\u003cbr\\u003elearning_rate=%{x}\\u003cbr\\u003eVal Macro F1=%{y}\\u003cextra\\u003e\\u003c\\u002fextra\\u003e\",\"legendgroup\":\"Depth 7.0 - Estimators 200.0\",\"line\":{\"color\":\"#B6E880\",\"dash\":\"longdash\"},\"marker\":{\"symbol\":\"circle\"},\"mode\":\"lines+markers\",\"name\":\"Depth 7.0 - Estimators 200.0\",\"orientation\":\"v\",\"showlegend\":true,\"x\":[0.01,0.05,0.1],\"xaxis\":\"x\",\"y\":[0.8516090799520649,0.8954459910641287,0.9023928703707346],\"yaxis\":\"y\",\"type\":\"scatter\"},{\"hovertemplate\":\"Params Combination=Depth 7.0 - Estimators 300.0\\u003cbr\\u003elearning_rate=%{x}\\u003cbr\\u003eVal Macro F1=%{y}\\u003cextra\\u003e\\u003c\\u002fextra\\u003e\",\"legendgroup\":\"Depth 7.0 - Estimators 300.0\",\"line\":{\"color\":\"#FF97FF\",\"dash\":\"dashdot\"},\"marker\":{\"symbol\":\"diamond\"},\"mode\":\"lines+markers\",\"name\":\"Depth 7.0 - Estimators 300.0\",\"orientation\":\"v\",\"showlegend\":true,\"x\":[0.01,0.05,0.1],\"xaxis\":\"x\",\"y\":[0.8671682567405206,0.8997177462479086,0.9044861561819669],\"yaxis\":\"y\",\"type\":\"scatter\"},{\"hovertemplate\":\"Params Combination=Depth 9.0 - Estimators 100.0\\u003cbr\\u003elearning_rate=%{x}\\u003cbr\\u003eVal Macro F1=%{y}\\u003cextra\\u003e\\u003c\\u002fextra\\u003e\",\"legendgroup\":\"Depth 9.0 - Estimators 100.0\",\"line\":{\"color\":\"#FECB52\",\"dash\":\"longdashdot\"},\"marker\":{\"symbol\":\"square\"},\"mode\":\"lines+markers\",\"name\":\"Depth 9.0 - Estimators 100.0\",\"orientation\":\"v\",\"showlegend\":true,\"x\":[0.01,0.05,0.1],\"xaxis\":\"x\",\"y\":[0.8313772399397227,0.8870847592270674,0.8983872164312132],\"yaxis\":\"y\",\"type\":\"scatter\"},{\"hovertemplate\":\"Params Combination=Depth 9.0 - Estimators 200.0\\u003cbr\\u003elearning_rate=%{x}\\u003cbr\\u003eVal Macro F1=%{y}\\u003cextra\\u003e\\u003c\\u002fextra\\u003e\",\"legendgroup\":\"Depth 9.0 - Estimators 200.0\",\"line\":{\"color\":\"#636efa\",\"dash\":\"solid\"},\"marker\":{\"symbol\":\"x\"},\"mode\":\"lines+markers\",\"name\":\"Depth 9.0 - Estimators 200.0\",\"orientation\":\"v\",\"showlegend\":true,\"x\":[0.01,0.05,0.1],\"xaxis\":\"x\",\"y\":[0.8613821810106104,0.8983744290214746,0.9029540328813351],\"yaxis\":\"y\",\"type\":\"scatter\"},{\"hovertemplate\":\"Params Combination=Depth 9.0 - Estimators 300.0\\u003cbr\\u003elearning_rate=%{x}\\u003cbr\\u003eVal Macro F1=%{y}\\u003cextra\\u003e\\u003c\\u002fextra\\u003e\",\"legendgroup\":\"Depth 9.0 - Estimators 300.0\",\"line\":{\"color\":\"#EF553B\",\"dash\":\"dot\"},\"marker\":{\"symbol\":\"cross\"},\"mode\":\"lines+markers\",\"name\":\"Depth 9.0 - Estimators 300.0\",\"orientation\":\"v\",\"showlegend\":true,\"x\":[0.01,0.05,0.1],\"xaxis\":\"x\",\"y\":[0.8751582510946694,0.9017458322796443,0.9047421087506787],\"yaxis\":\"y\",\"type\":\"scatter\"}],                        {\"template\":{\"data\":{\"histogram2dcontour\":[{\"type\":\"histogram2dcontour\",\"colorbar\":{\"outlinewidth\":0,\"ticks\":\"\"},\"colorscale\":[[0.0,\"#0d0887\"],[0.1111111111111111,\"#46039f\"],[0.2222222222222222,\"#7201a8\"],[0.3333333333333333,\"#9c179e\"],[0.4444444444444444,\"#bd3786\"],[0.5555555555555556,\"#d8576b\"],[0.6666666666666666,\"#ed7953\"],[0.7777777777777778,\"#fb9f3a\"],[0.8888888888888888,\"#fdca26\"],[1.0,\"#f0f921\"]]}],\"choropleth\":[{\"type\":\"choropleth\",\"colorbar\":{\"outlinewidth\":0,\"ticks\":\"\"}}],\"histogram2d\":[{\"type\":\"histogram2d\",\"colorbar\":{\"outlinewidth\":0,\"ticks\":\"\"},\"colorscale\":[[0.0,\"#0d0887\"],[0.1111111111111111,\"#46039f\"],[0.2222222222222222,\"#7201a8\"],[0.3333333333333333,\"#9c179e\"],[0.4444444444444444,\"#bd3786\"],[0.5555555555555556,\"#d8576b\"],[0.6666666666666666,\"#ed7953\"],[0.7777777777777778,\"#fb9f3a\"],[0.8888888888888888,\"#fdca26\"],[1.0,\"#f0f921\"]]}],\"heatmap\":[{\"type\":\"heatmap\",\"colorbar\":{\"outlinewidth\":0,\"ticks\":\"\"},\"colorscale\":[[0.0,\"#0d0887\"],[0.1111111111111111,\"#46039f\"],[0.2222222222222222,\"#7201a8\"],[0.3333333333333333,\"#9c179e\"],[0.4444444444444444,\"#bd3786\"],[0.5555555555555556,\"#d8576b\"],[0.6666666666666666,\"#ed7953\"],[0.7777777777777778,\"#fb9f3a\"],[0.8888888888888888,\"#fdca26\"],[1.0,\"#f0f921\"]]}],\"heatmapgl\":[{\"type\":\"heatmapgl\",\"colorbar\":{\"outlinewidth\":0,\"ticks\":\"\"},\"colorscale\":[[0.0,\"#0d0887\"],[0.1111111111111111,\"#46039f\"],[0.2222222222222222,\"#7201a8\"],[0.3333333333333333,\"#9c179e\"],[0.4444444444444444,\"#bd3786\"],[0.5555555555555556,\"#d8576b\"],[0.6666666666666666,\"#ed7953\"],[0.7777777777777778,\"#fb9f3a\"],[0.8888888888888888,\"#fdca26\"],[1.0,\"#f0f921\"]]}],\"contourcarpet\":[{\"type\":\"contourcarpet\",\"colorbar\":{\"outlinewidth\":0,\"ticks\":\"\"}}],\"contour\":[{\"type\":\"contour\",\"colorbar\":{\"outlinewidth\":0,\"ticks\":\"\"},\"colorscale\":[[0.0,\"#0d0887\"],[0.1111111111111111,\"#46039f\"],[0.2222222222222222,\"#7201a8\"],[0.3333333333333333,\"#9c179e\"],[0.4444444444444444,\"#bd3786\"],[0.5555555555555556,\"#d8576b\"],[0.6666666666666666,\"#ed7953\"],[0.7777777777777778,\"#fb9f3a\"],[0.8888888888888888,\"#fdca26\"],[1.0,\"#f0f921\"]]}],\"surface\":[{\"type\":\"surface\",\"colorbar\":{\"outlinewidth\":0,\"ticks\":\"\"},\"colorscale\":[[0.0,\"#0d0887\"],[0.1111111111111111,\"#46039f\"],[0.2222222222222222,\"#7201a8\"],[0.3333333333333333,\"#9c179e\"],[0.4444444444444444,\"#bd3786\"],[0.5555555555555556,\"#d8576b\"],[0.6666666666666666,\"#ed7953\"],[0.7777777777777778,\"#fb9f3a\"],[0.8888888888888888,\"#fdca26\"],[1.0,\"#f0f921\"]]}],\"mesh3d\":[{\"type\":\"mesh3d\",\"colorbar\":{\"outlinewidth\":0,\"ticks\":\"\"}}],\"scatter\":[{\"fillpattern\":{\"fillmode\":\"overlay\",\"size\":10,\"solidity\":0.2},\"type\":\"scatter\"}],\"parcoords\":[{\"type\":\"parcoords\",\"line\":{\"colorbar\":{\"outlinewidth\":0,\"ticks\":\"\"}}}],\"scatterpolargl\":[{\"type\":\"scatterpolargl\",\"marker\":{\"colorbar\":{\"outlinewidth\":0,\"ticks\":\"\"}}}],\"bar\":[{\"error_x\":{\"color\":\"#2a3f5f\"},\"error_y\":{\"color\":\"#2a3f5f\"},\"marker\":{\"line\":{\"color\":\"#E5ECF6\",\"width\":0.5},\"pattern\":{\"fillmode\":\"overlay\",\"size\":10,\"solidity\":0.2}},\"type\":\"bar\"}],\"scattergeo\":[{\"type\":\"scattergeo\",\"marker\":{\"colorbar\":{\"outlinewidth\":0,\"ticks\":\"\"}}}],\"scatterpolar\":[{\"type\":\"scatterpolar\",\"marker\":{\"colorbar\":{\"outlinewidth\":0,\"ticks\":\"\"}}}],\"histogram\":[{\"marker\":{\"pattern\":{\"fillmode\":\"overlay\",\"size\":10,\"solidity\":0.2}},\"type\":\"histogram\"}],\"scattergl\":[{\"type\":\"scattergl\",\"marker\":{\"colorbar\":{\"outlinewidth\":0,\"ticks\":\"\"}}}],\"scatter3d\":[{\"type\":\"scatter3d\",\"line\":{\"colorbar\":{\"outlinewidth\":0,\"ticks\":\"\"}},\"marker\":{\"colorbar\":{\"outlinewidth\":0,\"ticks\":\"\"}}}],\"scattermapbox\":[{\"type\":\"scattermapbox\",\"marker\":{\"colorbar\":{\"outlinewidth\":0,\"ticks\":\"\"}}}],\"scatterternary\":[{\"type\":\"scatterternary\",\"marker\":{\"colorbar\":{\"outlinewidth\":0,\"ticks\":\"\"}}}],\"scattercarpet\":[{\"type\":\"scattercarpet\",\"marker\":{\"colorbar\":{\"outlinewidth\":0,\"ticks\":\"\"}}}],\"carpet\":[{\"aaxis\":{\"endlinecolor\":\"#2a3f5f\",\"gridcolor\":\"white\",\"linecolor\":\"white\",\"minorgridcolor\":\"white\",\"startlinecolor\":\"#2a3f5f\"},\"baxis\":{\"endlinecolor\":\"#2a3f5f\",\"gridcolor\":\"white\",\"linecolor\":\"white\",\"minorgridcolor\":\"white\",\"startlinecolor\":\"#2a3f5f\"},\"type\":\"carpet\"}],\"table\":[{\"cells\":{\"fill\":{\"color\":\"#EBF0F8\"},\"line\":{\"color\":\"white\"}},\"header\":{\"fill\":{\"color\":\"#C8D4E3\"},\"line\":{\"color\":\"white\"}},\"type\":\"table\"}],\"barpolar\":[{\"marker\":{\"line\":{\"color\":\"#E5ECF6\",\"width\":0.5},\"pattern\":{\"fillmode\":\"overlay\",\"size\":10,\"solidity\":0.2}},\"type\":\"barpolar\"}],\"pie\":[{\"automargin\":true,\"type\":\"pie\"}]},\"layout\":{\"autotypenumbers\":\"strict\",\"colorway\":[\"#636efa\",\"#EF553B\",\"#00cc96\",\"#ab63fa\",\"#FFA15A\",\"#19d3f3\",\"#FF6692\",\"#B6E880\",\"#FF97FF\",\"#FECB52\"],\"font\":{\"color\":\"#2a3f5f\"},\"hovermode\":\"closest\",\"hoverlabel\":{\"align\":\"left\"},\"paper_bgcolor\":\"white\",\"plot_bgcolor\":\"#E5ECF6\",\"polar\":{\"bgcolor\":\"#E5ECF6\",\"angularaxis\":{\"gridcolor\":\"white\",\"linecolor\":\"white\",\"ticks\":\"\"},\"radialaxis\":{\"gridcolor\":\"white\",\"linecolor\":\"white\",\"ticks\":\"\"}},\"ternary\":{\"bgcolor\":\"#E5ECF6\",\"aaxis\":{\"gridcolor\":\"white\",\"linecolor\":\"white\",\"ticks\":\"\"},\"baxis\":{\"gridcolor\":\"white\",\"linecolor\":\"white\",\"ticks\":\"\"},\"caxis\":{\"gridcolor\":\"white\",\"linecolor\":\"white\",\"ticks\":\"\"}},\"coloraxis\":{\"colorbar\":{\"outlinewidth\":0,\"ticks\":\"\"}},\"colorscale\":{\"sequential\":[[0.0,\"#0d0887\"],[0.1111111111111111,\"#46039f\"],[0.2222222222222222,\"#7201a8\"],[0.3333333333333333,\"#9c179e\"],[0.4444444444444444,\"#bd3786\"],[0.5555555555555556,\"#d8576b\"],[0.6666666666666666,\"#ed7953\"],[0.7777777777777778,\"#fb9f3a\"],[0.8888888888888888,\"#fdca26\"],[1.0,\"#f0f921\"]],\"sequentialminus\":[[0.0,\"#0d0887\"],[0.1111111111111111,\"#46039f\"],[0.2222222222222222,\"#7201a8\"],[0.3333333333333333,\"#9c179e\"],[0.4444444444444444,\"#bd3786\"],[0.5555555555555556,\"#d8576b\"],[0.6666666666666666,\"#ed7953\"],[0.7777777777777778,\"#fb9f3a\"],[0.8888888888888888,\"#fdca26\"],[1.0,\"#f0f921\"]],\"diverging\":[[0,\"#8e0152\"],[0.1,\"#c51b7d\"],[0.2,\"#de77ae\"],[0.3,\"#f1b6da\"],[0.4,\"#fde0ef\"],[0.5,\"#f7f7f7\"],[0.6,\"#e6f5d0\"],[0.7,\"#b8e186\"],[0.8,\"#7fbc41\"],[0.9,\"#4d9221\"],[1,\"#276419\"]]},\"xaxis\":{\"gridcolor\":\"white\",\"linecolor\":\"white\",\"ticks\":\"\",\"title\":{\"standoff\":15},\"zerolinecolor\":\"white\",\"automargin\":true,\"zerolinewidth\":2},\"yaxis\":{\"gridcolor\":\"white\",\"linecolor\":\"white\",\"ticks\":\"\",\"title\":{\"standoff\":15},\"zerolinecolor\":\"white\",\"automargin\":true,\"zerolinewidth\":2},\"scene\":{\"xaxis\":{\"backgroundcolor\":\"#E5ECF6\",\"gridcolor\":\"white\",\"linecolor\":\"white\",\"showbackground\":true,\"ticks\":\"\",\"zerolinecolor\":\"white\",\"gridwidth\":2},\"yaxis\":{\"backgroundcolor\":\"#E5ECF6\",\"gridcolor\":\"white\",\"linecolor\":\"white\",\"showbackground\":true,\"ticks\":\"\",\"zerolinecolor\":\"white\",\"gridwidth\":2},\"zaxis\":{\"backgroundcolor\":\"#E5ECF6\",\"gridcolor\":\"white\",\"linecolor\":\"white\",\"showbackground\":true,\"ticks\":\"\",\"zerolinecolor\":\"white\",\"gridwidth\":2}},\"shapedefaults\":{\"line\":{\"color\":\"#2a3f5f\"}},\"annotationdefaults\":{\"arrowcolor\":\"#2a3f5f\",\"arrowhead\":0,\"arrowwidth\":1},\"geo\":{\"bgcolor\":\"white\",\"landcolor\":\"#E5ECF6\",\"subunitcolor\":\"white\",\"showland\":true,\"showlakes\":true,\"lakecolor\":\"white\"},\"title\":{\"x\":0.05},\"mapbox\":{\"style\":\"light\"}}},\"xaxis\":{\"anchor\":\"y\",\"domain\":[0.0,1.0],\"title\":{\"text\":\"Learning Rate\"}},\"yaxis\":{\"anchor\":\"x\",\"domain\":[0.0,1.0],\"title\":{\"text\":\"Val Macro F1\"}},\"legend\":{\"title\":{\"text\":\"Depth and Estimators\"},\"tracegroupgap\":0,\"orientation\":\"h\",\"yanchor\":\"top\",\"y\":-0.4,\"xanchor\":\"center\",\"x\":0.5},\"title\":{\"text\":\"Learning Rate\\u8207Val Macro F1\\u7684\\u95dc\\u4fc2\"},\"height\":600},                        {\"responsive\": true}                    ).then(function(){\n",
       "                            \n",
       "var gd = document.getElementById('b3031562-3feb-4e6b-bd50-80c6029622b1');\n",
       "var x = new MutationObserver(function (mutations, observer) {{\n",
       "        var display = window.getComputedStyle(gd).display;\n",
       "        if (!display || display === 'none') {{\n",
       "            console.log([gd, 'removed!']);\n",
       "            Plotly.purge(gd);\n",
       "            observer.disconnect();\n",
       "        }}\n",
       "}});\n",
       "\n",
       "// Listen for the removal of the full notebook cells\n",
       "var notebookContainer = gd.closest('#notebook-container');\n",
       "if (notebookContainer) {{\n",
       "    x.observe(notebookContainer, {childList: true});\n",
       "}}\n",
       "\n",
       "// Listen for the clearing of the current output cell\n",
       "var outputEl = gd.closest('.output');\n",
       "if (outputEl) {{\n",
       "    x.observe(outputEl, {childList: true});\n",
       "}}\n",
       "\n",
       "                        })                };                });            </script>        </div>"
      ]
     },
     "metadata": {},
     "output_type": "display_data"
    }
   ],
   "source": [
    "fig = px.line(\n",
    "    grouped_results,\n",
    "    x='learning_rate',\n",
    "    y='Val Macro F1',\n",
    "    color='Params Combination',\n",
    "    markers=True,\n",
    "    symbol='Params Combination',\n",
    "    symbol_map=symbol_map,\n",
    "    line_dash='Params Combination',\n",
    "    line_dash_map=line_dash_map_corrected,\n",
    "    title='Learning Rate與Val Macro F1的關係'\n",
    ")\n",
    "\n",
    "fig.update_layout(\n",
    "    legend_title_text='Depth and Estimators',\n",
    "    xaxis=dict(title='Learning Rate'),\n",
    "    yaxis=dict(title='Val Macro F1'),\n",
    "    legend=dict(\n",
    "        orientation=\"h\",  # 水平排列\n",
    "        yanchor=\"top\",    # 以圖例的頂部作為對齊點\n",
    "        y=-0.4,           # 調整圖例的垂直位置，負值將其移到圖表下方\n",
    "        xanchor=\"center\", # 以圖例的中心作為對齊點\n",
    "        x=0.5             # 圖例居中對齊\n",
    "    ),\n",
    "    height=600\n",
    ")\n",
    "\n",
    "# Save the reordered figure as an HTML file\n",
    "html_file_path_ordered = 'Plot.html'\n",
    "fig.write_html(html_file_path_ordered)\n",
    "\n",
    "html_file_path_ordered\n",
    "\n",
    "fig.show()\n"
   ]
  },
  {
   "cell_type": "code",
   "execution_count": null,
   "id": "8f0f3c77-29d2-4561-89bf-354fc6b50dd4",
   "metadata": {},
   "outputs": [],
   "source": []
  }
 ],
 "metadata": {
  "kernelspec": {
   "display_name": "Python 3 (ipykernel)",
   "language": "python",
   "name": "python3"
  },
  "language_info": {
   "codemirror_mode": {
    "name": "ipython",
    "version": 3
   },
   "file_extension": ".py",
   "mimetype": "text/x-python",
   "name": "python",
   "nbconvert_exporter": "python",
   "pygments_lexer": "ipython3",
   "version": "3.8.10"
  }
 },
 "nbformat": 4,
 "nbformat_minor": 5
}
